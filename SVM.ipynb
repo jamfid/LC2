{
 "cells": [
  {
   "cell_type": "markdown",
   "id": "a3c59b33",
   "metadata": {},
   "source": [
    "Giacomo Fidone\n",
    "\n",
    "email: g.fidone@studenti.unipi.it"
   ]
  },
  {
   "cell_type": "markdown",
   "id": "23009ec6",
   "metadata": {},
   "source": [
    "# Imports"
   ]
  },
  {
   "cell_type": "code",
   "execution_count": 3,
   "id": "9fa03aa2",
   "metadata": {},
   "outputs": [],
   "source": [
    "import os\n",
    "import sqlite3\n",
    "import re\n",
    "import pandas as pd\n",
    "import numpy as np\n",
    "import scipy.stats as sp\n",
    "import matplotlib.pyplot as plt\n",
    "import seaborn as sns\n",
    "\n",
    "from itertools import chain, combinations\n",
    "\n",
    "from sklearn.svm import LinearSVC, SVC\n",
    "from sklearn.metrics import classification_report, accuracy_score, f1_score, r2_score, confusion_matrix\n",
    "from sklearn.model_selection import train_test_split, GridSearchCV, RandomizedSearchCV, KFold, StratifiedKFold, cross_val_score, cross_validate\n",
    "from sklearn.preprocessing import MinMaxScaler, MaxAbsScaler\n",
    "from sklearn.dummy import DummyClassifier\n",
    "from sklearn.feature_extraction import DictVectorizer"
   ]
  },
  {
   "cell_type": "markdown",
   "id": "5422fa5c",
   "metadata": {},
   "source": [
    "# Stile"
   ]
  },
  {
   "cell_type": "code",
   "execution_count": 4,
   "id": "bf8ebc1c",
   "metadata": {},
   "outputs": [],
   "source": [
    "# specifico lo stile dei grafici\n",
    "\n",
    "sns.set_style(\"whitegrid\", {'grid.linestyle': '--'})\n",
    "sns.set_style({'font.family':'serif', 'font.serif':'Computer Modern'})\n",
    "sns.set_context(font_scale=2, rc={\"font.size\":10,\"axes.titlesize\":20,\"axes.labelsize\":15})"
   ]
  },
  {
   "cell_type": "markdown",
   "id": "3c01ab8f",
   "metadata": {},
   "source": [
    "# Data Preparation"
   ]
  },
  {
   "cell_type": "code",
   "execution_count": 5,
   "id": "123c7d4b",
   "metadata": {},
   "outputs": [],
   "source": [
    "# importo il dataset\n",
    "\n",
    "df = pd.read_csv('dataset_ironita_2018.csv')"
   ]
  },
  {
   "cell_type": "code",
   "execution_count": 6,
   "id": "0cf93ded",
   "metadata": {},
   "outputs": [
    {
     "data": {
      "text/plain": [
       "(4849, 6)"
      ]
     },
     "execution_count": 6,
     "metadata": {},
     "output_type": "execute_result"
    }
   ],
   "source": [
    "df.shape"
   ]
  },
  {
   "cell_type": "code",
   "execution_count": 7,
   "id": "05156cc1",
   "metadata": {},
   "outputs": [
    {
     "data": {
      "text/html": [
       "<div>\n",
       "<style scoped>\n",
       "    .dataframe tbody tr th:only-of-type {\n",
       "        vertical-align: middle;\n",
       "    }\n",
       "\n",
       "    .dataframe tbody tr th {\n",
       "        vertical-align: top;\n",
       "    }\n",
       "\n",
       "    .dataframe thead th {\n",
       "        text-align: right;\n",
       "    }\n",
       "</style>\n",
       "<table border=\"1\" class=\"dataframe\">\n",
       "  <thead>\n",
       "    <tr style=\"text-align: right;\">\n",
       "      <th></th>\n",
       "      <th>twitter_id</th>\n",
       "      <th>text</th>\n",
       "      <th>irony</th>\n",
       "      <th>sarcasm</th>\n",
       "      <th>source</th>\n",
       "      <th>set</th>\n",
       "    </tr>\n",
       "  </thead>\n",
       "  <tbody>\n",
       "    <tr>\n",
       "      <th>0</th>\n",
       "      <td>595524450503815168</td>\n",
       "      <td>-Prendere i libri in copisteria-Fare la spesa-...</td>\n",
       "      <td>1</td>\n",
       "      <td>0</td>\n",
       "      <td>twita-crowd</td>\n",
       "      <td>test</td>\n",
       "    </tr>\n",
       "    <tr>\n",
       "      <th>1</th>\n",
       "      <td>578468106504433665</td>\n",
       "      <td>...comunque con una crociera Costa se non ti a...</td>\n",
       "      <td>1</td>\n",
       "      <td>0</td>\n",
       "      <td>HSC</td>\n",
       "      <td>test</td>\n",
       "    </tr>\n",
       "    <tr>\n",
       "      <th>2</th>\n",
       "      <td>577791521174466560</td>\n",
       "      <td>“@TweetComici: Ogni ragazza: \\\"non sono una ra...</td>\n",
       "      <td>1</td>\n",
       "      <td>1</td>\n",
       "      <td>twita-crowd</td>\n",
       "      <td>test</td>\n",
       "    </tr>\n",
       "    <tr>\n",
       "      <th>3</th>\n",
       "      <td>507464919303069697</td>\n",
       "      <td>“La buona scuola”? Fa gli errori di grammatica...</td>\n",
       "      <td>0</td>\n",
       "      <td>0</td>\n",
       "      <td>tw-bs</td>\n",
       "      <td>test</td>\n",
       "    </tr>\n",
       "    <tr>\n",
       "      <th>4</th>\n",
       "      <td>839896135619727362</td>\n",
       "      <td>“Vi hanno sfrattato? Andate al campo rom in un...</td>\n",
       "      <td>0</td>\n",
       "      <td>0</td>\n",
       "      <td>HSC</td>\n",
       "      <td>test</td>\n",
       "    </tr>\n",
       "  </tbody>\n",
       "</table>\n",
       "</div>"
      ],
      "text/plain": [
       "           twitter_id                                               text  \\\n",
       "0  595524450503815168  -Prendere i libri in copisteria-Fare la spesa-...   \n",
       "1  578468106504433665  ...comunque con una crociera Costa se non ti a...   \n",
       "2  577791521174466560  “@TweetComici: Ogni ragazza: \\\"non sono una ra...   \n",
       "3  507464919303069697  “La buona scuola”? Fa gli errori di grammatica...   \n",
       "4  839896135619727362  “Vi hanno sfrattato? Andate al campo rom in un...   \n",
       "\n",
       "   irony  sarcasm       source   set  \n",
       "0      1        0  twita-crowd  test  \n",
       "1      1        0          HSC  test  \n",
       "2      1        1  twita-crowd  test  \n",
       "3      0        0        tw-bs  test  \n",
       "4      0        0          HSC  test  "
      ]
     },
     "execution_count": 7,
     "metadata": {},
     "output_type": "execute_result"
    }
   ],
   "source": [
    "df.head()"
   ]
  },
  {
   "cell_type": "code",
   "execution_count": 8,
   "id": "e8188b65",
   "metadata": {},
   "outputs": [],
   "source": [
    "# creo un nuovo target multi-label a partire da irony e sarcasm\n",
    "\n",
    "irony_sarcasm = []\n",
    "for i, row in df.iterrows():\n",
    "    if row['irony'] == 0 and row['sarcasm'] == 0:\n",
    "        irony_sarcasm.append(0)\n",
    "    elif row['irony'] == 1 and row['sarcasm'] == 0:\n",
    "        irony_sarcasm.append(1)\n",
    "    else:\n",
    "        irony_sarcasm.append(2)\n",
    "df['irony_sarcasm'] = irony_sarcasm\n",
    "df = df.drop('sarcasm', axis=1)"
   ]
  },
  {
   "cell_type": "code",
   "execution_count": 9,
   "id": "c2520bf7",
   "metadata": {},
   "outputs": [
    {
     "data": {
      "text/plain": [
       "(4849, 6)"
      ]
     },
     "execution_count": 9,
     "metadata": {},
     "output_type": "execute_result"
    }
   ],
   "source": [
    "df.shape"
   ]
  },
  {
   "cell_type": "code",
   "execution_count": 10,
   "id": "931e9149",
   "metadata": {},
   "outputs": [
    {
     "data": {
      "text/html": [
       "<div>\n",
       "<style scoped>\n",
       "    .dataframe tbody tr th:only-of-type {\n",
       "        vertical-align: middle;\n",
       "    }\n",
       "\n",
       "    .dataframe tbody tr th {\n",
       "        vertical-align: top;\n",
       "    }\n",
       "\n",
       "    .dataframe thead th {\n",
       "        text-align: right;\n",
       "    }\n",
       "</style>\n",
       "<table border=\"1\" class=\"dataframe\">\n",
       "  <thead>\n",
       "    <tr style=\"text-align: right;\">\n",
       "      <th></th>\n",
       "      <th>twitter_id</th>\n",
       "      <th>text</th>\n",
       "      <th>irony</th>\n",
       "      <th>source</th>\n",
       "      <th>set</th>\n",
       "      <th>irony_sarcasm</th>\n",
       "    </tr>\n",
       "  </thead>\n",
       "  <tbody>\n",
       "    <tr>\n",
       "      <th>0</th>\n",
       "      <td>595524450503815168</td>\n",
       "      <td>-Prendere i libri in copisteria-Fare la spesa-...</td>\n",
       "      <td>1</td>\n",
       "      <td>twita-crowd</td>\n",
       "      <td>test</td>\n",
       "      <td>1</td>\n",
       "    </tr>\n",
       "    <tr>\n",
       "      <th>1</th>\n",
       "      <td>578468106504433665</td>\n",
       "      <td>...comunque con una crociera Costa se non ti a...</td>\n",
       "      <td>1</td>\n",
       "      <td>HSC</td>\n",
       "      <td>test</td>\n",
       "      <td>1</td>\n",
       "    </tr>\n",
       "    <tr>\n",
       "      <th>2</th>\n",
       "      <td>577791521174466560</td>\n",
       "      <td>“@TweetComici: Ogni ragazza: \\\"non sono una ra...</td>\n",
       "      <td>1</td>\n",
       "      <td>twita-crowd</td>\n",
       "      <td>test</td>\n",
       "      <td>2</td>\n",
       "    </tr>\n",
       "    <tr>\n",
       "      <th>3</th>\n",
       "      <td>507464919303069697</td>\n",
       "      <td>“La buona scuola”? Fa gli errori di grammatica...</td>\n",
       "      <td>0</td>\n",
       "      <td>tw-bs</td>\n",
       "      <td>test</td>\n",
       "      <td>0</td>\n",
       "    </tr>\n",
       "    <tr>\n",
       "      <th>4</th>\n",
       "      <td>839896135619727362</td>\n",
       "      <td>“Vi hanno sfrattato? Andate al campo rom in un...</td>\n",
       "      <td>0</td>\n",
       "      <td>HSC</td>\n",
       "      <td>test</td>\n",
       "      <td>0</td>\n",
       "    </tr>\n",
       "  </tbody>\n",
       "</table>\n",
       "</div>"
      ],
      "text/plain": [
       "           twitter_id                                               text  \\\n",
       "0  595524450503815168  -Prendere i libri in copisteria-Fare la spesa-...   \n",
       "1  578468106504433665  ...comunque con una crociera Costa se non ti a...   \n",
       "2  577791521174466560  “@TweetComici: Ogni ragazza: \\\"non sono una ra...   \n",
       "3  507464919303069697  “La buona scuola”? Fa gli errori di grammatica...   \n",
       "4  839896135619727362  “Vi hanno sfrattato? Andate al campo rom in un...   \n",
       "\n",
       "   irony       source   set  irony_sarcasm  \n",
       "0      1  twita-crowd  test              1  \n",
       "1      1          HSC  test              1  \n",
       "2      1  twita-crowd  test              2  \n",
       "3      0        tw-bs  test              0  \n",
       "4      0          HSC  test              0  "
      ]
     },
     "execution_count": 10,
     "metadata": {},
     "output_type": "execute_result"
    }
   ],
   "source": [
    "df.head()"
   ]
  },
  {
   "cell_type": "code",
   "execution_count": 11,
   "id": "1a479764",
   "metadata": {},
   "outputs": [
    {
     "data": {
      "image/png": "[encoded data removed]",
      "text/plain": [
       "<Figure size 432x360 with 1 Axes>"
      ]
     },
     "metadata": {},
     "output_type": "display_data"
    }
   ],
   "source": [
    "# visualizzo le distribuzioni delle classi target\n",
    "\n",
    "plt.figure(figsize=(6, 5))\n",
    "sns.countplot(x='irony', data=df)\n",
    "plt.xlabel('')\n",
    "plt.ylabel('Frequenza assoluta')\n",
    "plt.yticks(fontsize=12)\n",
    "plt.xticks(fontsize=12)\n",
    "plt.show()"
   ]
  },
  {
   "cell_type": "code",
   "execution_count": 12,
   "id": "492fc3b5",
   "metadata": {},
   "outputs": [
    {
     "data": {
      "image/png": "[encoded data removed]",
      "text/plain": [
       "<Figure size 432x360 with 1 Axes>"
      ]
     },
     "metadata": {},
     "output_type": "display_data"
    }
   ],
   "source": [
    "plt.figure(figsize=(6, 5))\n",
    "sns.countplot(x='irony_sarcasm', data=df)\n",
    "plt.xlabel('')\n",
    "plt.ylabel('Frequenza assoluta')\n",
    "plt.yticks(fontsize=12)\n",
    "plt.xticks(fontsize=12)\n",
    "plt.show()"
   ]
  },
  {
   "cell_type": "markdown",
   "id": "f4b449cd",
   "metadata": {},
   "source": [
    "# Classificazione con profilazione linguistica"
   ]
  },
  {
   "cell_type": "markdown",
   "id": "8248c8a6",
   "metadata": {},
   "source": [
    "### Data Preparation"
   ]
  },
  {
   "cell_type": "code",
   "execution_count": 13,
   "id": "9c55c461",
   "metadata": {},
   "outputs": [],
   "source": [
    "def generate_files(df, column, out_dir):\n",
    "    \n",
    "    '''Genera un file di testo per ogni valore di column in df e lo salva in out_dir\n",
    "    tenendo traccia dell'indice di riga'''\n",
    "    \n",
    "    os.mkdir(out_dir)\n",
    "    for index, row in df.iterrows():\n",
    "        out_file_name = f'{index}.txt' \n",
    "        out_file_path = os.path.join(out_dir, out_file_name)\n",
    "        with open(out_file_path, 'w') as out_file:\n",
    "            out_file.write(row[column])\n",
    "            out_file.write('\\n')"
   ]
  },
  {
   "cell_type": "code",
   "execution_count": null,
   "id": "549d7ba4",
   "metadata": {},
   "outputs": [],
   "source": [
    "# genero i file da passare a Profiling-UD\n",
    "\n",
    "generate_files(df, 'text', 'profiling_input')"
   ]
  },
  {
   "cell_type": "code",
   "execution_count": 14,
   "id": "72074ad2",
   "metadata": {},
   "outputs": [],
   "source": [
    "# importo il file csv restituito in output da Profiling-UD\n",
    "\n",
    "profiling_output = pd.read_csv('/Users/Giacomo/Desktop/folder_LC_project/profiling_output.csv', sep='\\t')"
   ]
  },
  {
   "cell_type": "code",
   "execution_count": 15,
   "id": "fdf59fe9",
   "metadata": {},
   "outputs": [
    {
     "data": {
      "text/plain": [
       "(4849, 134)"
      ]
     },
     "execution_count": 15,
     "metadata": {},
     "output_type": "execute_result"
    }
   ],
   "source": [
    "profiling_output.shape"
   ]
  },
  {
   "cell_type": "code",
   "execution_count": 16,
   "id": "43e5e894",
   "metadata": {},
   "outputs": [
    {
     "data": {
      "text/html": [
       "<div>\n",
       "<style scoped>\n",
       "    .dataframe tbody tr th:only-of-type {\n",
       "        vertical-align: middle;\n",
       "    }\n",
       "\n",
       "    .dataframe tbody tr th {\n",
       "        vertical-align: top;\n",
       "    }\n",
       "\n",
       "    .dataframe thead th {\n",
       "        text-align: right;\n",
       "    }\n",
       "</style>\n",
       "<table border=\"1\" class=\"dataframe\">\n",
       "  <thead>\n",
       "    <tr style=\"text-align: right;\">\n",
       "      <th></th>\n",
       "      <th>Filename</th>\n",
       "      <th>n_sentences</th>\n",
       "      <th>n_tokens</th>\n",
       "      <th>tokens_per_sent</th>\n",
       "      <th>char_per_tok</th>\n",
       "      <th>upos_dist_ADJ</th>\n",
       "      <th>upos_dist_ADP</th>\n",
       "      <th>upos_dist_ADV</th>\n",
       "      <th>upos_dist_AUX</th>\n",
       "      <th>upos_dist_CCONJ</th>\n",
       "      <th>...</th>\n",
       "      <th>principal_proposition_dist</th>\n",
       "      <th>subordinate_proposition_dist</th>\n",
       "      <th>subordinate_post</th>\n",
       "      <th>subordinate_pre</th>\n",
       "      <th>avg_subordinate_chain_len</th>\n",
       "      <th>subordinate_dist_1</th>\n",
       "      <th>subordinate_dist_2</th>\n",
       "      <th>subordinate_dist_3</th>\n",
       "      <th>subordinate_dist_4</th>\n",
       "      <th>subordinate_dist_5</th>\n",
       "    </tr>\n",
       "  </thead>\n",
       "  <tbody>\n",
       "    <tr>\n",
       "      <th>0</th>\n",
       "      <td>profiling_input/2448.conllu</td>\n",
       "      <td>1</td>\n",
       "      <td>15</td>\n",
       "      <td>15.0</td>\n",
       "      <td>6.400000</td>\n",
       "      <td>13.333333</td>\n",
       "      <td>0.000000</td>\n",
       "      <td>6.666667</td>\n",
       "      <td>0.0</td>\n",
       "      <td>0.000000</td>\n",
       "      <td>...</td>\n",
       "      <td>100.0</td>\n",
       "      <td>0.0</td>\n",
       "      <td>0.0</td>\n",
       "      <td>0.0</td>\n",
       "      <td>0.0</td>\n",
       "      <td>0.0</td>\n",
       "      <td>0.0</td>\n",
       "      <td>0.0</td>\n",
       "      <td>0.0</td>\n",
       "      <td>0.0</td>\n",
       "    </tr>\n",
       "    <tr>\n",
       "      <th>1</th>\n",
       "      <td>profiling_input/1843.conllu</td>\n",
       "      <td>2</td>\n",
       "      <td>23</td>\n",
       "      <td>11.5</td>\n",
       "      <td>6.500000</td>\n",
       "      <td>13.043478</td>\n",
       "      <td>8.695652</td>\n",
       "      <td>13.043478</td>\n",
       "      <td>0.0</td>\n",
       "      <td>4.347826</td>\n",
       "      <td>...</td>\n",
       "      <td>0.0</td>\n",
       "      <td>0.0</td>\n",
       "      <td>0.0</td>\n",
       "      <td>0.0</td>\n",
       "      <td>0.0</td>\n",
       "      <td>0.0</td>\n",
       "      <td>0.0</td>\n",
       "      <td>0.0</td>\n",
       "      <td>0.0</td>\n",
       "      <td>0.0</td>\n",
       "    </tr>\n",
       "    <tr>\n",
       "      <th>2</th>\n",
       "      <td>profiling_input/2976.conllu</td>\n",
       "      <td>2</td>\n",
       "      <td>20</td>\n",
       "      <td>10.0</td>\n",
       "      <td>6.000000</td>\n",
       "      <td>5.000000</td>\n",
       "      <td>15.000000</td>\n",
       "      <td>5.000000</td>\n",
       "      <td>5.0</td>\n",
       "      <td>5.000000</td>\n",
       "      <td>...</td>\n",
       "      <td>100.0</td>\n",
       "      <td>0.0</td>\n",
       "      <td>0.0</td>\n",
       "      <td>0.0</td>\n",
       "      <td>0.0</td>\n",
       "      <td>0.0</td>\n",
       "      <td>0.0</td>\n",
       "      <td>0.0</td>\n",
       "      <td>0.0</td>\n",
       "      <td>0.0</td>\n",
       "    </tr>\n",
       "    <tr>\n",
       "      <th>3</th>\n",
       "      <td>profiling_input/4146.conllu</td>\n",
       "      <td>1</td>\n",
       "      <td>8</td>\n",
       "      <td>8.0</td>\n",
       "      <td>5.714286</td>\n",
       "      <td>12.500000</td>\n",
       "      <td>0.000000</td>\n",
       "      <td>12.500000</td>\n",
       "      <td>12.5</td>\n",
       "      <td>0.000000</td>\n",
       "      <td>...</td>\n",
       "      <td>100.0</td>\n",
       "      <td>0.0</td>\n",
       "      <td>0.0</td>\n",
       "      <td>0.0</td>\n",
       "      <td>0.0</td>\n",
       "      <td>0.0</td>\n",
       "      <td>0.0</td>\n",
       "      <td>0.0</td>\n",
       "      <td>0.0</td>\n",
       "      <td>0.0</td>\n",
       "    </tr>\n",
       "    <tr>\n",
       "      <th>4</th>\n",
       "      <td>profiling_input/2419.conllu</td>\n",
       "      <td>3</td>\n",
       "      <td>24</td>\n",
       "      <td>8.0</td>\n",
       "      <td>5.200000</td>\n",
       "      <td>4.166667</td>\n",
       "      <td>12.500000</td>\n",
       "      <td>0.000000</td>\n",
       "      <td>0.0</td>\n",
       "      <td>4.166667</td>\n",
       "      <td>...</td>\n",
       "      <td>50.0</td>\n",
       "      <td>50.0</td>\n",
       "      <td>0.0</td>\n",
       "      <td>100.0</td>\n",
       "      <td>1.0</td>\n",
       "      <td>100.0</td>\n",
       "      <td>0.0</td>\n",
       "      <td>0.0</td>\n",
       "      <td>0.0</td>\n",
       "      <td>0.0</td>\n",
       "    </tr>\n",
       "  </tbody>\n",
       "</table>\n",
       "<p>5 rows × 134 columns</p>\n",
       "</div>"
      ],
      "text/plain": [
       "                      Filename  n_sentences  n_tokens  tokens_per_sent  \\\n",
       "0  profiling_input/2448.conllu            1        15             15.0   \n",
       "1  profiling_input/1843.conllu            2        23             11.5   \n",
       "2  profiling_input/2976.conllu            2        20             10.0   \n",
       "3  profiling_input/4146.conllu            1         8              8.0   \n",
       "4  profiling_input/2419.conllu            3        24              8.0   \n",
       "\n",
       "   char_per_tok  upos_dist_ADJ  upos_dist_ADP  upos_dist_ADV  upos_dist_AUX  \\\n",
       "0      6.400000      13.333333       0.000000       6.666667            0.0   \n",
       "1      6.500000      13.043478       8.695652      13.043478            0.0   \n",
       "2      6.000000       5.000000      15.000000       5.000000            5.0   \n",
       "3      5.714286      12.500000       0.000000      12.500000           12.5   \n",
       "4      5.200000       4.166667      12.500000       0.000000            0.0   \n",
       "\n",
       "   upos_dist_CCONJ  ...  principal_proposition_dist  \\\n",
       "0         0.000000  ...                       100.0   \n",
       "1         4.347826  ...                         0.0   \n",
       "2         5.000000  ...                       100.0   \n",
       "3         0.000000  ...                       100.0   \n",
       "4         4.166667  ...                        50.0   \n",
       "\n",
       "   subordinate_proposition_dist  subordinate_post  subordinate_pre  \\\n",
       "0                           0.0               0.0              0.0   \n",
       "1                           0.0               0.0              0.0   \n",
       "2                           0.0               0.0              0.0   \n",
       "3                           0.0               0.0              0.0   \n",
       "4                          50.0               0.0            100.0   \n",
       "\n",
       "   avg_subordinate_chain_len  subordinate_dist_1  subordinate_dist_2  \\\n",
       "0                        0.0                 0.0                 0.0   \n",
       "1                        0.0                 0.0                 0.0   \n",
       "2                        0.0                 0.0                 0.0   \n",
       "3                        0.0                 0.0                 0.0   \n",
       "4                        1.0               100.0                 0.0   \n",
       "\n",
       "   subordinate_dist_3  subordinate_dist_4  subordinate_dist_5  \n",
       "0                 0.0                 0.0                 0.0  \n",
       "1                 0.0                 0.0                 0.0  \n",
       "2                 0.0                 0.0                 0.0  \n",
       "3                 0.0                 0.0                 0.0  \n",
       "4                 0.0                 0.0                 0.0  \n",
       "\n",
       "[5 rows x 134 columns]"
      ]
     },
     "execution_count": 16,
     "metadata": {},
     "output_type": "execute_result"
    }
   ],
   "source": [
    "profiling_output.head()"
   ]
  },
  {
   "cell_type": "code",
   "execution_count": 17,
   "id": "ebe1e286",
   "metadata": {},
   "outputs": [],
   "source": [
    "# recupero dall'indice in Filename l'informazione relativa ai target (irony, irony_sarcasm) e allo split\n",
    "\n",
    "irony_list = []\n",
    "irony_sarcasm_list = []\n",
    "split_list = []\n",
    "\n",
    "for i, row in profiling_output.iterrows():\n",
    "    filename = row['Filename']\n",
    "    index = int(re.findall(r\"(\\d+)\", filename)[0]) \n",
    "    irony = df.iloc[index]['irony']\n",
    "    irony_sarcasm = df.iloc[index]['irony_sarcasm']\n",
    "    split = df.iloc[index]['set']\n",
    "    irony_list.append(irony)\n",
    "    irony_sarcasm_list.append(irony_sarcasm)\n",
    "    split_list.append(split)\n",
    "\n",
    "profiling_output['irony'] = irony_list\n",
    "profiling_output['irony_sarcasm'] = irony_sarcasm_list\n",
    "profiling_output['set'] = split_list"
   ]
  },
  {
   "cell_type": "code",
   "execution_count": 18,
   "id": "ffe93edf",
   "metadata": {},
   "outputs": [
    {
     "data": {
      "text/plain": [
       "(4849, 137)"
      ]
     },
     "execution_count": 18,
     "metadata": {},
     "output_type": "execute_result"
    }
   ],
   "source": [
    "profiling_output.shape"
   ]
  },
  {
   "cell_type": "code",
   "execution_count": 19,
   "id": "bc922f7f",
   "metadata": {},
   "outputs": [
    {
     "data": {
      "text/html": [
       "<div>\n",
       "<style scoped>\n",
       "    .dataframe tbody tr th:only-of-type {\n",
       "        vertical-align: middle;\n",
       "    }\n",
       "\n",
       "    .dataframe tbody tr th {\n",
       "        vertical-align: top;\n",
       "    }\n",
       "\n",
       "    .dataframe thead th {\n",
       "        text-align: right;\n",
       "    }\n",
       "</style>\n",
       "<table border=\"1\" class=\"dataframe\">\n",
       "  <thead>\n",
       "    <tr style=\"text-align: right;\">\n",
       "      <th></th>\n",
       "      <th>Filename</th>\n",
       "      <th>n_sentences</th>\n",
       "      <th>n_tokens</th>\n",
       "      <th>tokens_per_sent</th>\n",
       "      <th>char_per_tok</th>\n",
       "      <th>upos_dist_ADJ</th>\n",
       "      <th>upos_dist_ADP</th>\n",
       "      <th>upos_dist_ADV</th>\n",
       "      <th>upos_dist_AUX</th>\n",
       "      <th>upos_dist_CCONJ</th>\n",
       "      <th>...</th>\n",
       "      <th>subordinate_pre</th>\n",
       "      <th>avg_subordinate_chain_len</th>\n",
       "      <th>subordinate_dist_1</th>\n",
       "      <th>subordinate_dist_2</th>\n",
       "      <th>subordinate_dist_3</th>\n",
       "      <th>subordinate_dist_4</th>\n",
       "      <th>subordinate_dist_5</th>\n",
       "      <th>irony</th>\n",
       "      <th>irony_sarcasm</th>\n",
       "      <th>set</th>\n",
       "    </tr>\n",
       "  </thead>\n",
       "  <tbody>\n",
       "    <tr>\n",
       "      <th>0</th>\n",
       "      <td>profiling_input/2448.conllu</td>\n",
       "      <td>1</td>\n",
       "      <td>15</td>\n",
       "      <td>15.0</td>\n",
       "      <td>6.400000</td>\n",
       "      <td>13.333333</td>\n",
       "      <td>0.000000</td>\n",
       "      <td>6.666667</td>\n",
       "      <td>0.0</td>\n",
       "      <td>0.000000</td>\n",
       "      <td>...</td>\n",
       "      <td>0.0</td>\n",
       "      <td>0.0</td>\n",
       "      <td>0.0</td>\n",
       "      <td>0.0</td>\n",
       "      <td>0.0</td>\n",
       "      <td>0.0</td>\n",
       "      <td>0.0</td>\n",
       "      <td>0</td>\n",
       "      <td>0</td>\n",
       "      <td>training</td>\n",
       "    </tr>\n",
       "    <tr>\n",
       "      <th>1</th>\n",
       "      <td>profiling_input/1843.conllu</td>\n",
       "      <td>2</td>\n",
       "      <td>23</td>\n",
       "      <td>11.5</td>\n",
       "      <td>6.500000</td>\n",
       "      <td>13.043478</td>\n",
       "      <td>8.695652</td>\n",
       "      <td>13.043478</td>\n",
       "      <td>0.0</td>\n",
       "      <td>4.347826</td>\n",
       "      <td>...</td>\n",
       "      <td>0.0</td>\n",
       "      <td>0.0</td>\n",
       "      <td>0.0</td>\n",
       "      <td>0.0</td>\n",
       "      <td>0.0</td>\n",
       "      <td>0.0</td>\n",
       "      <td>0.0</td>\n",
       "      <td>0</td>\n",
       "      <td>0</td>\n",
       "      <td>training</td>\n",
       "    </tr>\n",
       "    <tr>\n",
       "      <th>2</th>\n",
       "      <td>profiling_input/2976.conllu</td>\n",
       "      <td>2</td>\n",
       "      <td>20</td>\n",
       "      <td>10.0</td>\n",
       "      <td>6.000000</td>\n",
       "      <td>5.000000</td>\n",
       "      <td>15.000000</td>\n",
       "      <td>5.000000</td>\n",
       "      <td>5.0</td>\n",
       "      <td>5.000000</td>\n",
       "      <td>...</td>\n",
       "      <td>0.0</td>\n",
       "      <td>0.0</td>\n",
       "      <td>0.0</td>\n",
       "      <td>0.0</td>\n",
       "      <td>0.0</td>\n",
       "      <td>0.0</td>\n",
       "      <td>0.0</td>\n",
       "      <td>0</td>\n",
       "      <td>0</td>\n",
       "      <td>training</td>\n",
       "    </tr>\n",
       "    <tr>\n",
       "      <th>3</th>\n",
       "      <td>profiling_input/4146.conllu</td>\n",
       "      <td>1</td>\n",
       "      <td>8</td>\n",
       "      <td>8.0</td>\n",
       "      <td>5.714286</td>\n",
       "      <td>12.500000</td>\n",
       "      <td>0.000000</td>\n",
       "      <td>12.500000</td>\n",
       "      <td>12.5</td>\n",
       "      <td>0.000000</td>\n",
       "      <td>...</td>\n",
       "      <td>0.0</td>\n",
       "      <td>0.0</td>\n",
       "      <td>0.0</td>\n",
       "      <td>0.0</td>\n",
       "      <td>0.0</td>\n",
       "      <td>0.0</td>\n",
       "      <td>0.0</td>\n",
       "      <td>1</td>\n",
       "      <td>2</td>\n",
       "      <td>training</td>\n",
       "    </tr>\n",
       "    <tr>\n",
       "      <th>4</th>\n",
       "      <td>profiling_input/2419.conllu</td>\n",
       "      <td>3</td>\n",
       "      <td>24</td>\n",
       "      <td>8.0</td>\n",
       "      <td>5.200000</td>\n",
       "      <td>4.166667</td>\n",
       "      <td>12.500000</td>\n",
       "      <td>0.000000</td>\n",
       "      <td>0.0</td>\n",
       "      <td>4.166667</td>\n",
       "      <td>...</td>\n",
       "      <td>100.0</td>\n",
       "      <td>1.0</td>\n",
       "      <td>100.0</td>\n",
       "      <td>0.0</td>\n",
       "      <td>0.0</td>\n",
       "      <td>0.0</td>\n",
       "      <td>0.0</td>\n",
       "      <td>0</td>\n",
       "      <td>0</td>\n",
       "      <td>training</td>\n",
       "    </tr>\n",
       "  </tbody>\n",
       "</table>\n",
       "<p>5 rows × 137 columns</p>\n",
       "</div>"
      ],
      "text/plain": [
       "                      Filename  n_sentences  n_tokens  tokens_per_sent  \\\n",
       "0  profiling_input/2448.conllu            1        15             15.0   \n",
       "1  profiling_input/1843.conllu            2        23             11.5   \n",
       "2  profiling_input/2976.conllu            2        20             10.0   \n",
       "3  profiling_input/4146.conllu            1         8              8.0   \n",
       "4  profiling_input/2419.conllu            3        24              8.0   \n",
       "\n",
       "   char_per_tok  upos_dist_ADJ  upos_dist_ADP  upos_dist_ADV  upos_dist_AUX  \\\n",
       "0      6.400000      13.333333       0.000000       6.666667            0.0   \n",
       "1      6.500000      13.043478       8.695652      13.043478            0.0   \n",
       "2      6.000000       5.000000      15.000000       5.000000            5.0   \n",
       "3      5.714286      12.500000       0.000000      12.500000           12.5   \n",
       "4      5.200000       4.166667      12.500000       0.000000            0.0   \n",
       "\n",
       "   upos_dist_CCONJ  ...  subordinate_pre  avg_subordinate_chain_len  \\\n",
       "0         0.000000  ...              0.0                        0.0   \n",
       "1         4.347826  ...              0.0                        0.0   \n",
       "2         5.000000  ...              0.0                        0.0   \n",
       "3         0.000000  ...              0.0                        0.0   \n",
       "4         4.166667  ...            100.0                        1.0   \n",
       "\n",
       "   subordinate_dist_1  subordinate_dist_2  subordinate_dist_3  \\\n",
       "0                 0.0                 0.0                 0.0   \n",
       "1                 0.0                 0.0                 0.0   \n",
       "2                 0.0                 0.0                 0.0   \n",
       "3                 0.0                 0.0                 0.0   \n",
       "4               100.0                 0.0                 0.0   \n",
       "\n",
       "   subordinate_dist_4  subordinate_dist_5  irony  irony_sarcasm       set  \n",
       "0                 0.0                 0.0      0              0  training  \n",
       "1                 0.0                 0.0      0              0  training  \n",
       "2                 0.0                 0.0      0              0  training  \n",
       "3                 0.0                 0.0      1              2  training  \n",
       "4                 0.0                 0.0      0              0  training  \n",
       "\n",
       "[5 rows x 137 columns]"
      ]
     },
     "execution_count": 19,
     "metadata": {},
     "output_type": "execute_result"
    }
   ],
   "source": [
    "profiling_output.head()"
   ]
  },
  {
   "cell_type": "code",
   "execution_count": 20,
   "id": "f2a084ff",
   "metadata": {},
   "outputs": [],
   "source": [
    "# elimino Filename\n",
    "\n",
    "profiling_output = profiling_output.drop('Filename', axis=1)"
   ]
  },
  {
   "cell_type": "code",
   "execution_count": 21,
   "id": "34ec9e20",
   "metadata": {},
   "outputs": [
    {
     "data": {
      "text/plain": [
       "(4849, 136)"
      ]
     },
     "execution_count": 21,
     "metadata": {},
     "output_type": "execute_result"
    }
   ],
   "source": [
    "profiling_output.shape"
   ]
  },
  {
   "cell_type": "code",
   "execution_count": 22,
   "id": "6b5fb3f5",
   "metadata": {},
   "outputs": [
    {
     "data": {
      "text/html": [
       "<div>\n",
       "<style scoped>\n",
       "    .dataframe tbody tr th:only-of-type {\n",
       "        vertical-align: middle;\n",
       "    }\n",
       "\n",
       "    .dataframe tbody tr th {\n",
       "        vertical-align: top;\n",
       "    }\n",
       "\n",
       "    .dataframe thead th {\n",
       "        text-align: right;\n",
       "    }\n",
       "</style>\n",
       "<table border=\"1\" class=\"dataframe\">\n",
       "  <thead>\n",
       "    <tr style=\"text-align: right;\">\n",
       "      <th></th>\n",
       "      <th>n_sentences</th>\n",
       "      <th>n_tokens</th>\n",
       "      <th>tokens_per_sent</th>\n",
       "      <th>char_per_tok</th>\n",
       "      <th>upos_dist_ADJ</th>\n",
       "      <th>upos_dist_ADP</th>\n",
       "      <th>upos_dist_ADV</th>\n",
       "      <th>upos_dist_AUX</th>\n",
       "      <th>upos_dist_CCONJ</th>\n",
       "      <th>upos_dist_DET</th>\n",
       "      <th>...</th>\n",
       "      <th>subordinate_pre</th>\n",
       "      <th>avg_subordinate_chain_len</th>\n",
       "      <th>subordinate_dist_1</th>\n",
       "      <th>subordinate_dist_2</th>\n",
       "      <th>subordinate_dist_3</th>\n",
       "      <th>subordinate_dist_4</th>\n",
       "      <th>subordinate_dist_5</th>\n",
       "      <th>irony</th>\n",
       "      <th>irony_sarcasm</th>\n",
       "      <th>set</th>\n",
       "    </tr>\n",
       "  </thead>\n",
       "  <tbody>\n",
       "    <tr>\n",
       "      <th>0</th>\n",
       "      <td>1</td>\n",
       "      <td>15</td>\n",
       "      <td>15.0</td>\n",
       "      <td>6.400000</td>\n",
       "      <td>13.333333</td>\n",
       "      <td>0.000000</td>\n",
       "      <td>6.666667</td>\n",
       "      <td>0.0</td>\n",
       "      <td>0.000000</td>\n",
       "      <td>0.000000</td>\n",
       "      <td>...</td>\n",
       "      <td>0.0</td>\n",
       "      <td>0.0</td>\n",
       "      <td>0.0</td>\n",
       "      <td>0.0</td>\n",
       "      <td>0.0</td>\n",
       "      <td>0.0</td>\n",
       "      <td>0.0</td>\n",
       "      <td>0</td>\n",
       "      <td>0</td>\n",
       "      <td>training</td>\n",
       "    </tr>\n",
       "    <tr>\n",
       "      <th>1</th>\n",
       "      <td>2</td>\n",
       "      <td>23</td>\n",
       "      <td>11.5</td>\n",
       "      <td>6.500000</td>\n",
       "      <td>13.043478</td>\n",
       "      <td>8.695652</td>\n",
       "      <td>13.043478</td>\n",
       "      <td>0.0</td>\n",
       "      <td>4.347826</td>\n",
       "      <td>8.695652</td>\n",
       "      <td>...</td>\n",
       "      <td>0.0</td>\n",
       "      <td>0.0</td>\n",
       "      <td>0.0</td>\n",
       "      <td>0.0</td>\n",
       "      <td>0.0</td>\n",
       "      <td>0.0</td>\n",
       "      <td>0.0</td>\n",
       "      <td>0</td>\n",
       "      <td>0</td>\n",
       "      <td>training</td>\n",
       "    </tr>\n",
       "    <tr>\n",
       "      <th>2</th>\n",
       "      <td>2</td>\n",
       "      <td>20</td>\n",
       "      <td>10.0</td>\n",
       "      <td>6.000000</td>\n",
       "      <td>5.000000</td>\n",
       "      <td>15.000000</td>\n",
       "      <td>5.000000</td>\n",
       "      <td>5.0</td>\n",
       "      <td>5.000000</td>\n",
       "      <td>15.000000</td>\n",
       "      <td>...</td>\n",
       "      <td>0.0</td>\n",
       "      <td>0.0</td>\n",
       "      <td>0.0</td>\n",
       "      <td>0.0</td>\n",
       "      <td>0.0</td>\n",
       "      <td>0.0</td>\n",
       "      <td>0.0</td>\n",
       "      <td>0</td>\n",
       "      <td>0</td>\n",
       "      <td>training</td>\n",
       "    </tr>\n",
       "    <tr>\n",
       "      <th>3</th>\n",
       "      <td>1</td>\n",
       "      <td>8</td>\n",
       "      <td>8.0</td>\n",
       "      <td>5.714286</td>\n",
       "      <td>12.500000</td>\n",
       "      <td>0.000000</td>\n",
       "      <td>12.500000</td>\n",
       "      <td>12.5</td>\n",
       "      <td>0.000000</td>\n",
       "      <td>25.000000</td>\n",
       "      <td>...</td>\n",
       "      <td>0.0</td>\n",
       "      <td>0.0</td>\n",
       "      <td>0.0</td>\n",
       "      <td>0.0</td>\n",
       "      <td>0.0</td>\n",
       "      <td>0.0</td>\n",
       "      <td>0.0</td>\n",
       "      <td>1</td>\n",
       "      <td>2</td>\n",
       "      <td>training</td>\n",
       "    </tr>\n",
       "    <tr>\n",
       "      <th>4</th>\n",
       "      <td>3</td>\n",
       "      <td>24</td>\n",
       "      <td>8.0</td>\n",
       "      <td>5.200000</td>\n",
       "      <td>4.166667</td>\n",
       "      <td>12.500000</td>\n",
       "      <td>0.000000</td>\n",
       "      <td>0.0</td>\n",
       "      <td>4.166667</td>\n",
       "      <td>8.333333</td>\n",
       "      <td>...</td>\n",
       "      <td>100.0</td>\n",
       "      <td>1.0</td>\n",
       "      <td>100.0</td>\n",
       "      <td>0.0</td>\n",
       "      <td>0.0</td>\n",
       "      <td>0.0</td>\n",
       "      <td>0.0</td>\n",
       "      <td>0</td>\n",
       "      <td>0</td>\n",
       "      <td>training</td>\n",
       "    </tr>\n",
       "  </tbody>\n",
       "</table>\n",
       "<p>5 rows × 136 columns</p>\n",
       "</div>"
      ],
      "text/plain": [
       "   n_sentences  n_tokens  tokens_per_sent  char_per_tok  upos_dist_ADJ  \\\n",
       "0            1        15             15.0      6.400000      13.333333   \n",
       "1            2        23             11.5      6.500000      13.043478   \n",
       "2            2        20             10.0      6.000000       5.000000   \n",
       "3            1         8              8.0      5.714286      12.500000   \n",
       "4            3        24              8.0      5.200000       4.166667   \n",
       "\n",
       "   upos_dist_ADP  upos_dist_ADV  upos_dist_AUX  upos_dist_CCONJ  \\\n",
       "0       0.000000       6.666667            0.0         0.000000   \n",
       "1       8.695652      13.043478            0.0         4.347826   \n",
       "2      15.000000       5.000000            5.0         5.000000   \n",
       "3       0.000000      12.500000           12.5         0.000000   \n",
       "4      12.500000       0.000000            0.0         4.166667   \n",
       "\n",
       "   upos_dist_DET  ...  subordinate_pre  avg_subordinate_chain_len  \\\n",
       "0       0.000000  ...              0.0                        0.0   \n",
       "1       8.695652  ...              0.0                        0.0   \n",
       "2      15.000000  ...              0.0                        0.0   \n",
       "3      25.000000  ...              0.0                        0.0   \n",
       "4       8.333333  ...            100.0                        1.0   \n",
       "\n",
       "   subordinate_dist_1  subordinate_dist_2  subordinate_dist_3  \\\n",
       "0                 0.0                 0.0                 0.0   \n",
       "1                 0.0                 0.0                 0.0   \n",
       "2                 0.0                 0.0                 0.0   \n",
       "3                 0.0                 0.0                 0.0   \n",
       "4               100.0                 0.0                 0.0   \n",
       "\n",
       "   subordinate_dist_4  subordinate_dist_5  irony  irony_sarcasm       set  \n",
       "0                 0.0                 0.0      0              0  training  \n",
       "1                 0.0                 0.0      0              0  training  \n",
       "2                 0.0                 0.0      0              0  training  \n",
       "3                 0.0                 0.0      1              2  training  \n",
       "4                 0.0                 0.0      0              0  training  \n",
       "\n",
       "[5 rows x 136 columns]"
      ]
     },
     "execution_count": 22,
     "metadata": {},
     "output_type": "execute_result"
    }
   ],
   "source": [
    "profiling_output.head()"
   ]
  },
  {
   "cell_type": "code",
   "execution_count": 23,
   "id": "8a03dcef",
   "metadata": {},
   "outputs": [],
   "source": [
    "# separo train e test\n",
    "\n",
    "df_train = profiling_output[profiling_output['set'] == 'training'].drop('set', axis=1)\n",
    "df_test = profiling_output[profiling_output['set'] == 'test'].drop('set', axis=1)"
   ]
  },
  {
   "cell_type": "code",
   "execution_count": 24,
   "id": "eaffaa00",
   "metadata": {},
   "outputs": [],
   "source": [
    "# resetto l'indice\n",
    "\n",
    "df_train = df_train.reset_index().drop('index', axis=1)\n",
    "df_test = df_test.reset_index().drop('index', axis=1)"
   ]
  },
  {
   "cell_type": "code",
   "execution_count": 25,
   "id": "bb53c9b1",
   "metadata": {},
   "outputs": [
    {
     "name": "stdout",
     "output_type": "stream",
     "text": [
      "(3977, 135) (872, 135)\n"
     ]
    }
   ],
   "source": [
    "print(df_train.shape, df_test.shape)"
   ]
  },
  {
   "cell_type": "code",
   "execution_count": 26,
   "id": "e7d687fd",
   "metadata": {},
   "outputs": [
    {
     "data": {
      "text/html": [
       "<div>\n",
       "<style scoped>\n",
       "    .dataframe tbody tr th:only-of-type {\n",
       "        vertical-align: middle;\n",
       "    }\n",
       "\n",
       "    .dataframe tbody tr th {\n",
       "        vertical-align: top;\n",
       "    }\n",
       "\n",
       "    .dataframe thead th {\n",
       "        text-align: right;\n",
       "    }\n",
       "</style>\n",
       "<table border=\"1\" class=\"dataframe\">\n",
       "  <thead>\n",
       "    <tr style=\"text-align: right;\">\n",
       "      <th></th>\n",
       "      <th>n_sentences</th>\n",
       "      <th>n_tokens</th>\n",
       "      <th>tokens_per_sent</th>\n",
       "      <th>char_per_tok</th>\n",
       "      <th>upos_dist_ADJ</th>\n",
       "      <th>upos_dist_ADP</th>\n",
       "      <th>upos_dist_ADV</th>\n",
       "      <th>upos_dist_AUX</th>\n",
       "      <th>upos_dist_CCONJ</th>\n",
       "      <th>upos_dist_DET</th>\n",
       "      <th>...</th>\n",
       "      <th>subordinate_post</th>\n",
       "      <th>subordinate_pre</th>\n",
       "      <th>avg_subordinate_chain_len</th>\n",
       "      <th>subordinate_dist_1</th>\n",
       "      <th>subordinate_dist_2</th>\n",
       "      <th>subordinate_dist_3</th>\n",
       "      <th>subordinate_dist_4</th>\n",
       "      <th>subordinate_dist_5</th>\n",
       "      <th>irony</th>\n",
       "      <th>irony_sarcasm</th>\n",
       "    </tr>\n",
       "  </thead>\n",
       "  <tbody>\n",
       "    <tr>\n",
       "      <th>0</th>\n",
       "      <td>1</td>\n",
       "      <td>15</td>\n",
       "      <td>15.0</td>\n",
       "      <td>6.400000</td>\n",
       "      <td>13.333333</td>\n",
       "      <td>0.000000</td>\n",
       "      <td>6.666667</td>\n",
       "      <td>0.0</td>\n",
       "      <td>0.000000</td>\n",
       "      <td>0.000000</td>\n",
       "      <td>...</td>\n",
       "      <td>0.0</td>\n",
       "      <td>0.0</td>\n",
       "      <td>0.0</td>\n",
       "      <td>0.0</td>\n",
       "      <td>0.0</td>\n",
       "      <td>0.0</td>\n",
       "      <td>0.0</td>\n",
       "      <td>0.0</td>\n",
       "      <td>0</td>\n",
       "      <td>0</td>\n",
       "    </tr>\n",
       "    <tr>\n",
       "      <th>1</th>\n",
       "      <td>2</td>\n",
       "      <td>23</td>\n",
       "      <td>11.5</td>\n",
       "      <td>6.500000</td>\n",
       "      <td>13.043478</td>\n",
       "      <td>8.695652</td>\n",
       "      <td>13.043478</td>\n",
       "      <td>0.0</td>\n",
       "      <td>4.347826</td>\n",
       "      <td>8.695652</td>\n",
       "      <td>...</td>\n",
       "      <td>0.0</td>\n",
       "      <td>0.0</td>\n",
       "      <td>0.0</td>\n",
       "      <td>0.0</td>\n",
       "      <td>0.0</td>\n",
       "      <td>0.0</td>\n",
       "      <td>0.0</td>\n",
       "      <td>0.0</td>\n",
       "      <td>0</td>\n",
       "      <td>0</td>\n",
       "    </tr>\n",
       "    <tr>\n",
       "      <th>2</th>\n",
       "      <td>2</td>\n",
       "      <td>20</td>\n",
       "      <td>10.0</td>\n",
       "      <td>6.000000</td>\n",
       "      <td>5.000000</td>\n",
       "      <td>15.000000</td>\n",
       "      <td>5.000000</td>\n",
       "      <td>5.0</td>\n",
       "      <td>5.000000</td>\n",
       "      <td>15.000000</td>\n",
       "      <td>...</td>\n",
       "      <td>0.0</td>\n",
       "      <td>0.0</td>\n",
       "      <td>0.0</td>\n",
       "      <td>0.0</td>\n",
       "      <td>0.0</td>\n",
       "      <td>0.0</td>\n",
       "      <td>0.0</td>\n",
       "      <td>0.0</td>\n",
       "      <td>0</td>\n",
       "      <td>0</td>\n",
       "    </tr>\n",
       "    <tr>\n",
       "      <th>3</th>\n",
       "      <td>1</td>\n",
       "      <td>8</td>\n",
       "      <td>8.0</td>\n",
       "      <td>5.714286</td>\n",
       "      <td>12.500000</td>\n",
       "      <td>0.000000</td>\n",
       "      <td>12.500000</td>\n",
       "      <td>12.5</td>\n",
       "      <td>0.000000</td>\n",
       "      <td>25.000000</td>\n",
       "      <td>...</td>\n",
       "      <td>0.0</td>\n",
       "      <td>0.0</td>\n",
       "      <td>0.0</td>\n",
       "      <td>0.0</td>\n",
       "      <td>0.0</td>\n",
       "      <td>0.0</td>\n",
       "      <td>0.0</td>\n",
       "      <td>0.0</td>\n",
       "      <td>1</td>\n",
       "      <td>2</td>\n",
       "    </tr>\n",
       "    <tr>\n",
       "      <th>4</th>\n",
       "      <td>3</td>\n",
       "      <td>24</td>\n",
       "      <td>8.0</td>\n",
       "      <td>5.200000</td>\n",
       "      <td>4.166667</td>\n",
       "      <td>12.500000</td>\n",
       "      <td>0.000000</td>\n",
       "      <td>0.0</td>\n",
       "      <td>4.166667</td>\n",
       "      <td>8.333333</td>\n",
       "      <td>...</td>\n",
       "      <td>0.0</td>\n",
       "      <td>100.0</td>\n",
       "      <td>1.0</td>\n",
       "      <td>100.0</td>\n",
       "      <td>0.0</td>\n",
       "      <td>0.0</td>\n",
       "      <td>0.0</td>\n",
       "      <td>0.0</td>\n",
       "      <td>0</td>\n",
       "      <td>0</td>\n",
       "    </tr>\n",
       "  </tbody>\n",
       "</table>\n",
       "<p>5 rows × 135 columns</p>\n",
       "</div>"
      ],
      "text/plain": [
       "   n_sentences  n_tokens  tokens_per_sent  char_per_tok  upos_dist_ADJ  \\\n",
       "0            1        15             15.0      6.400000      13.333333   \n",
       "1            2        23             11.5      6.500000      13.043478   \n",
       "2            2        20             10.0      6.000000       5.000000   \n",
       "3            1         8              8.0      5.714286      12.500000   \n",
       "4            3        24              8.0      5.200000       4.166667   \n",
       "\n",
       "   upos_dist_ADP  upos_dist_ADV  upos_dist_AUX  upos_dist_CCONJ  \\\n",
       "0       0.000000       6.666667            0.0         0.000000   \n",
       "1       8.695652      13.043478            0.0         4.347826   \n",
       "2      15.000000       5.000000            5.0         5.000000   \n",
       "3       0.000000      12.500000           12.5         0.000000   \n",
       "4      12.500000       0.000000            0.0         4.166667   \n",
       "\n",
       "   upos_dist_DET  ...  subordinate_post  subordinate_pre  \\\n",
       "0       0.000000  ...               0.0              0.0   \n",
       "1       8.695652  ...               0.0              0.0   \n",
       "2      15.000000  ...               0.0              0.0   \n",
       "3      25.000000  ...               0.0              0.0   \n",
       "4       8.333333  ...               0.0            100.0   \n",
       "\n",
       "   avg_subordinate_chain_len  subordinate_dist_1  subordinate_dist_2  \\\n",
       "0                        0.0                 0.0                 0.0   \n",
       "1                        0.0                 0.0                 0.0   \n",
       "2                        0.0                 0.0                 0.0   \n",
       "3                        0.0                 0.0                 0.0   \n",
       "4                        1.0               100.0                 0.0   \n",
       "\n",
       "   subordinate_dist_3  subordinate_dist_4  subordinate_dist_5  irony  \\\n",
       "0                 0.0                 0.0                 0.0      0   \n",
       "1                 0.0                 0.0                 0.0      0   \n",
       "2                 0.0                 0.0                 0.0      0   \n",
       "3                 0.0                 0.0                 0.0      1   \n",
       "4                 0.0                 0.0                 0.0      0   \n",
       "\n",
       "   irony_sarcasm  \n",
       "0              0  \n",
       "1              0  \n",
       "2              0  \n",
       "3              2  \n",
       "4              0  \n",
       "\n",
       "[5 rows x 135 columns]"
      ]
     },
     "execution_count": 26,
     "metadata": {},
     "output_type": "execute_result"
    }
   ],
   "source": [
    "df_train.head()"
   ]
  },
  {
   "cell_type": "code",
   "execution_count": 27,
   "id": "1ffb93a1",
   "metadata": {},
   "outputs": [
    {
     "data": {
      "text/html": [
       "<div>\n",
       "<style scoped>\n",
       "    .dataframe tbody tr th:only-of-type {\n",
       "        vertical-align: middle;\n",
       "    }\n",
       "\n",
       "    .dataframe tbody tr th {\n",
       "        vertical-align: top;\n",
       "    }\n",
       "\n",
       "    .dataframe thead th {\n",
       "        text-align: right;\n",
       "    }\n",
       "</style>\n",
       "<table border=\"1\" class=\"dataframe\">\n",
       "  <thead>\n",
       "    <tr style=\"text-align: right;\">\n",
       "      <th></th>\n",
       "      <th>n_sentences</th>\n",
       "      <th>n_tokens</th>\n",
       "      <th>tokens_per_sent</th>\n",
       "      <th>char_per_tok</th>\n",
       "      <th>upos_dist_ADJ</th>\n",
       "      <th>upos_dist_ADP</th>\n",
       "      <th>upos_dist_ADV</th>\n",
       "      <th>upos_dist_AUX</th>\n",
       "      <th>upos_dist_CCONJ</th>\n",
       "      <th>upos_dist_DET</th>\n",
       "      <th>...</th>\n",
       "      <th>subordinate_post</th>\n",
       "      <th>subordinate_pre</th>\n",
       "      <th>avg_subordinate_chain_len</th>\n",
       "      <th>subordinate_dist_1</th>\n",
       "      <th>subordinate_dist_2</th>\n",
       "      <th>subordinate_dist_3</th>\n",
       "      <th>subordinate_dist_4</th>\n",
       "      <th>subordinate_dist_5</th>\n",
       "      <th>irony</th>\n",
       "      <th>irony_sarcasm</th>\n",
       "    </tr>\n",
       "  </thead>\n",
       "  <tbody>\n",
       "    <tr>\n",
       "      <th>0</th>\n",
       "      <td>2</td>\n",
       "      <td>20</td>\n",
       "      <td>10.0</td>\n",
       "      <td>4.647059</td>\n",
       "      <td>0.000000</td>\n",
       "      <td>0.000000</td>\n",
       "      <td>20.000000</td>\n",
       "      <td>5.000000</td>\n",
       "      <td>5.000000</td>\n",
       "      <td>10.000000</td>\n",
       "      <td>...</td>\n",
       "      <td>0.0</td>\n",
       "      <td>0.0</td>\n",
       "      <td>0.0</td>\n",
       "      <td>0.0</td>\n",
       "      <td>0.0</td>\n",
       "      <td>0.0</td>\n",
       "      <td>0.0</td>\n",
       "      <td>0.0</td>\n",
       "      <td>0</td>\n",
       "      <td>0</td>\n",
       "    </tr>\n",
       "    <tr>\n",
       "      <th>1</th>\n",
       "      <td>1</td>\n",
       "      <td>19</td>\n",
       "      <td>19.0</td>\n",
       "      <td>6.588235</td>\n",
       "      <td>5.263158</td>\n",
       "      <td>31.578947</td>\n",
       "      <td>0.000000</td>\n",
       "      <td>5.263158</td>\n",
       "      <td>0.000000</td>\n",
       "      <td>0.000000</td>\n",
       "      <td>...</td>\n",
       "      <td>100.0</td>\n",
       "      <td>0.0</td>\n",
       "      <td>1.0</td>\n",
       "      <td>100.0</td>\n",
       "      <td>0.0</td>\n",
       "      <td>0.0</td>\n",
       "      <td>0.0</td>\n",
       "      <td>0.0</td>\n",
       "      <td>0</td>\n",
       "      <td>0</td>\n",
       "    </tr>\n",
       "    <tr>\n",
       "      <th>2</th>\n",
       "      <td>2</td>\n",
       "      <td>17</td>\n",
       "      <td>8.5</td>\n",
       "      <td>4.466667</td>\n",
       "      <td>5.882353</td>\n",
       "      <td>5.882353</td>\n",
       "      <td>17.647059</td>\n",
       "      <td>0.000000</td>\n",
       "      <td>0.000000</td>\n",
       "      <td>11.764706</td>\n",
       "      <td>...</td>\n",
       "      <td>0.0</td>\n",
       "      <td>100.0</td>\n",
       "      <td>1.0</td>\n",
       "      <td>100.0</td>\n",
       "      <td>0.0</td>\n",
       "      <td>0.0</td>\n",
       "      <td>0.0</td>\n",
       "      <td>0.0</td>\n",
       "      <td>1</td>\n",
       "      <td>2</td>\n",
       "    </tr>\n",
       "    <tr>\n",
       "      <th>3</th>\n",
       "      <td>1</td>\n",
       "      <td>17</td>\n",
       "      <td>17.0</td>\n",
       "      <td>6.823529</td>\n",
       "      <td>11.764706</td>\n",
       "      <td>23.529412</td>\n",
       "      <td>5.882353</td>\n",
       "      <td>0.000000</td>\n",
       "      <td>5.882353</td>\n",
       "      <td>0.000000</td>\n",
       "      <td>...</td>\n",
       "      <td>0.0</td>\n",
       "      <td>100.0</td>\n",
       "      <td>1.0</td>\n",
       "      <td>100.0</td>\n",
       "      <td>0.0</td>\n",
       "      <td>0.0</td>\n",
       "      <td>0.0</td>\n",
       "      <td>0.0</td>\n",
       "      <td>0</td>\n",
       "      <td>0</td>\n",
       "    </tr>\n",
       "    <tr>\n",
       "      <th>4</th>\n",
       "      <td>3</td>\n",
       "      <td>21</td>\n",
       "      <td>7.0</td>\n",
       "      <td>6.705882</td>\n",
       "      <td>4.761905</td>\n",
       "      <td>4.761905</td>\n",
       "      <td>9.523810</td>\n",
       "      <td>4.761905</td>\n",
       "      <td>0.000000</td>\n",
       "      <td>4.761905</td>\n",
       "      <td>...</td>\n",
       "      <td>0.0</td>\n",
       "      <td>0.0</td>\n",
       "      <td>0.0</td>\n",
       "      <td>0.0</td>\n",
       "      <td>0.0</td>\n",
       "      <td>0.0</td>\n",
       "      <td>0.0</td>\n",
       "      <td>0.0</td>\n",
       "      <td>1</td>\n",
       "      <td>2</td>\n",
       "    </tr>\n",
       "  </tbody>\n",
       "</table>\n",
       "<p>5 rows × 135 columns</p>\n",
       "</div>"
      ],
      "text/plain": [
       "   n_sentences  n_tokens  tokens_per_sent  char_per_tok  upos_dist_ADJ  \\\n",
       "0            2        20             10.0      4.647059       0.000000   \n",
       "1            1        19             19.0      6.588235       5.263158   \n",
       "2            2        17              8.5      4.466667       5.882353   \n",
       "3            1        17             17.0      6.823529      11.764706   \n",
       "4            3        21              7.0      6.705882       4.761905   \n",
       "\n",
       "   upos_dist_ADP  upos_dist_ADV  upos_dist_AUX  upos_dist_CCONJ  \\\n",
       "0       0.000000      20.000000       5.000000         5.000000   \n",
       "1      31.578947       0.000000       5.263158         0.000000   \n",
       "2       5.882353      17.647059       0.000000         0.000000   \n",
       "3      23.529412       5.882353       0.000000         5.882353   \n",
       "4       4.761905       9.523810       4.761905         0.000000   \n",
       "\n",
       "   upos_dist_DET  ...  subordinate_post  subordinate_pre  \\\n",
       "0      10.000000  ...               0.0              0.0   \n",
       "1       0.000000  ...             100.0              0.0   \n",
       "2      11.764706  ...               0.0            100.0   \n",
       "3       0.000000  ...               0.0            100.0   \n",
       "4       4.761905  ...               0.0              0.0   \n",
       "\n",
       "   avg_subordinate_chain_len  subordinate_dist_1  subordinate_dist_2  \\\n",
       "0                        0.0                 0.0                 0.0   \n",
       "1                        1.0               100.0                 0.0   \n",
       "2                        1.0               100.0                 0.0   \n",
       "3                        1.0               100.0                 0.0   \n",
       "4                        0.0                 0.0                 0.0   \n",
       "\n",
       "   subordinate_dist_3  subordinate_dist_4  subordinate_dist_5  irony  \\\n",
       "0                 0.0                 0.0                 0.0      0   \n",
       "1                 0.0                 0.0                 0.0      0   \n",
       "2                 0.0                 0.0                 0.0      1   \n",
       "3                 0.0                 0.0                 0.0      0   \n",
       "4                 0.0                 0.0                 0.0      1   \n",
       "\n",
       "   irony_sarcasm  \n",
       "0              0  \n",
       "1              0  \n",
       "2              2  \n",
       "3              0  \n",
       "4              2  \n",
       "\n",
       "[5 rows x 135 columns]"
      ]
     },
     "execution_count": 27,
     "metadata": {},
     "output_type": "execute_result"
    }
   ],
   "source": [
    "df_test.head()"
   ]
  },
  {
   "cell_type": "markdown",
   "id": "9f120723",
   "metadata": {},
   "source": [
    "### Classificazione binaria di irony"
   ]
  },
  {
   "cell_type": "code",
   "execution_count": 28,
   "id": "0fb7fd97",
   "metadata": {},
   "outputs": [],
   "source": [
    "# inizializzo X, y\n",
    "\n",
    "X_train = df_train.drop(['irony', 'irony_sarcasm'], axis=1)\n",
    "y_train = df_train['irony'].to_numpy()\n",
    "X_test = df_test.drop(['irony', 'irony_sarcasm'], axis=1)\n",
    "y_test = df_test['irony'].to_numpy()"
   ]
  },
  {
   "cell_type": "code",
   "execution_count": 29,
   "id": "ad6ea679",
   "metadata": {},
   "outputs": [
    {
     "name": "stdout",
     "output_type": "stream",
     "text": [
      "(3977, 133) (3977,)\n",
      "(872, 133) (872,)\n"
     ]
    }
   ],
   "source": [
    "print(X_train.shape, y_train.shape)\n",
    "print(X_test.shape, y_test.shape)"
   ]
  },
  {
   "cell_type": "code",
   "execution_count": 30,
   "id": "8a482b6c",
   "metadata": {},
   "outputs": [],
   "source": [
    "# normalizzo X_train, X_test\n",
    "\n",
    "scaler = MinMaxScaler()\n",
    "X_train = scaler.fit_transform(X_train)\n",
    "X_test = scaler.fit_transform(X_test)"
   ]
  },
  {
   "cell_type": "code",
   "execution_count": 31,
   "id": "d3ca6e92",
   "metadata": {},
   "outputs": [
    {
     "name": "stdout",
     "output_type": "stream",
     "text": [
      "(3977, 133) (872, 133)\n"
     ]
    }
   ],
   "source": [
    "print(X_train.shape, X_test.shape)"
   ]
  },
  {
   "cell_type": "code",
   "execution_count": 32,
   "id": "32bfb10a",
   "metadata": {},
   "outputs": [],
   "source": [
    "def randomized_search_svm(X_train, y_train, scoring='accuracy'):\n",
    "    \n",
    "    '''Prende in input X_train, y_train ed esegue una randomized search sugli iper-parametri di SVM. \n",
    "    Restituisce best_score_ e best_estimator_.'''\n",
    "    \n",
    "    param_grid = {'C': [1e-4, 1e-3, 1e-2, 1e-1, 1e0, 1e1, 1e2, 1e3, 1e4],\n",
    "              'gamma': [1e-4, 1e-3, 1e-2, 1e-1, 1e0, 1e1, 1e2, 1e3, 1e4],\n",
    "              'kernel': ['linear', 'rbf', 'poly', 'sigmoid'],\n",
    "              'class_weight': ['balanced', None]\n",
    "             }\n",
    "\n",
    "    search = RandomizedSearchCV(SVC(max_iter=1e6), \n",
    "                      param_grid, \n",
    "                      cv=StratifiedKFold(3, shuffle=True, random_state=42),\n",
    "                      n_iter=50,\n",
    "                      scoring=scoring,\n",
    "                      n_jobs=-1)\n",
    "\n",
    "    search.fit(X_train, y_train)\n",
    "    print(f'Best score: {search.best_score_}, Best estimator: {search.best_estimator_}')"
   ]
  },
  {
   "cell_type": "code",
   "execution_count": 33,
   "id": "bbf98b95",
   "metadata": {},
   "outputs": [],
   "source": [
    "# definisco una funzione per implementare una KFold CV\n",
    "\n",
    "def KFold_CV(n_folds, model, X, y, baseline_strategy='most_frequent'):\n",
    "    \n",
    "    '''Implementa una KFold_CV di model e di una baseline su X, y. Restituisce dizionario con media e incertezza di \n",
    "    Accuracy ed F1-Macro sugli n_folds di model e di baseline.'''\n",
    "    \n",
    "    results = dict()\n",
    "    folds = KFold(n_folds, shuffle=True, random_state=42)\n",
    "\n",
    "    accs_svm = list()\n",
    "    f1s_svm = list()\n",
    "    accs_dummy = list()\n",
    "    f1s_dummy = list()\n",
    "\n",
    "    for train_ids, test_ids in folds.split(X):\n",
    "        fold_X_train = X[train_ids]\n",
    "        fold_y_train = y[train_ids]\n",
    "\n",
    "        fold_X_test = X[test_ids]\n",
    "        fold_y_test = y[test_ids]\n",
    "    \n",
    "        dummy = DummyClassifier(strategy=baseline_strategy) # default baseline-mfc\n",
    "        dummy.fit(fold_X_train, fold_y_train)\n",
    "        fold_y_pred = dummy.predict(fold_X_test)\n",
    "        accuracy = accuracy_score(fold_y_test, fold_y_pred)\n",
    "        f1_macro = f1_score(fold_y_test, fold_y_pred, average='macro')\n",
    "        accs_dummy.append(accuracy)\n",
    "        f1s_dummy.append(f1_macro)\n",
    "\n",
    "        model.fit(fold_X_train, fold_y_train)\n",
    "        fold_y_pred = model.predict(fold_X_test)\n",
    "        accuracy = accuracy_score(fold_y_test, fold_y_pred)\n",
    "        f1_macro = f1_score(fold_y_test, fold_y_pred, average='macro')\n",
    "        accs_svm.append(accuracy)\n",
    "        f1s_svm.append(f1_macro)\n",
    "    \n",
    "    results['Avg Accuracy Baseline'] = (np.mean(accs_dummy), np.std(accs_dummy))\n",
    "    results['Avg F1-Macro baseline'] = (np.mean(f1s_dummy), np.std(f1s_dummy))\n",
    "    results['Avg Accuracy Model'] = (np.mean(accs_svm), np.std(accs_svm))\n",
    "    results['Avg F1-Macro Model'] = (np.mean(f1s_svm), np.std(f1s_svm))\n",
    "    \n",
    "    return results"
   ]
  },
  {
   "cell_type": "code",
   "execution_count": 35,
   "id": "1d091d65",
   "metadata": {},
   "outputs": [
    {
     "name": "stdout",
     "output_type": "stream",
     "text": [
      "Best score: 0.6658275230750259, Best estimator: SVC(class_weight='balanced', gamma=1000.0, kernel='linear', max_iter=1000000.0)\n"
     ]
    }
   ],
   "source": [
    "# effettuo randomized search su X_train, y_train\n",
    "\n",
    "randomized_search_svm(X_train, y_train)"
   ]
  },
  {
   "cell_type": "code",
   "execution_count": 37,
   "id": "a53cd61b",
   "metadata": {},
   "outputs": [
    {
     "data": {
      "text/html": [
       "<style>#sk-container-id-1 {color: black;background-color: white;}#sk-container-id-1 pre{padding: 0;}#sk-container-id-1 div.sk-toggleable {background-color: white;}#sk-container-id-1 label.sk-toggleable__label {cursor: pointer;display: block;width: 100%;margin-bottom: 0;padding: 0.3em;box-sizing: border-box;text-align: center;}#sk-container-id-1 label.sk-toggleable__label-arrow:before {content: \"▸\";float: left;margin-right: 0.25em;color: #696969;}#sk-container-id-1 label.sk-toggleable__label-arrow:hover:before {color: black;}#sk-container-id-1 div.sk-estimator:hover label.sk-toggleable__label-arrow:before {color: black;}#sk-container-id-1 div.sk-toggleable__content {max-height: 0;max-width: 0;overflow: hidden;text-align: left;background-color: #f0f8ff;}#sk-container-id-1 div.sk-toggleable__content pre {margin: 0.2em;color: black;border-radius: 0.25em;background-color: #f0f8ff;}#sk-container-id-1 input.sk-toggleable__control:checked~div.sk-toggleable__content {max-height: 200px;max-width: 100%;overflow: auto;}#sk-container-id-1 input.sk-toggleable__control:checked~label.sk-toggleable__label-arrow:before {content: \"▾\";}#sk-container-id-1 div.sk-estimator input.sk-toggleable__control:checked~label.sk-toggleable__label {background-color: #d4ebff;}#sk-container-id-1 div.sk-label input.sk-toggleable__control:checked~label.sk-toggleable__label {background-color: #d4ebff;}#sk-container-id-1 input.sk-hidden--visually {border: 0;clip: rect(1px 1px 1px 1px);clip: rect(1px, 1px, 1px, 1px);height: 1px;margin: -1px;overflow: hidden;padding: 0;position: absolute;width: 1px;}#sk-container-id-1 div.sk-estimator {font-family: monospace;background-color: #f0f8ff;border: 1px dotted black;border-radius: 0.25em;box-sizing: border-box;margin-bottom: 0.5em;}#sk-container-id-1 div.sk-estimator:hover {background-color: #d4ebff;}#sk-container-id-1 div.sk-parallel-item::after {content: \"\";width: 100%;border-bottom: 1px solid gray;flex-grow: 1;}#sk-container-id-1 div.sk-label:hover label.sk-toggleable__label {background-color: #d4ebff;}#sk-container-id-1 div.sk-serial::before {content: \"\";position: absolute;border-left: 1px solid gray;box-sizing: border-box;top: 0;bottom: 0;left: 50%;z-index: 0;}#sk-container-id-1 div.sk-serial {display: flex;flex-direction: column;align-items: center;background-color: white;padding-right: 0.2em;padding-left: 0.2em;position: relative;}#sk-container-id-1 div.sk-item {position: relative;z-index: 1;}#sk-container-id-1 div.sk-parallel {display: flex;align-items: stretch;justify-content: center;background-color: white;position: relative;}#sk-container-id-1 div.sk-item::before, #sk-container-id-1 div.sk-parallel-item::before {content: \"\";position: absolute;border-left: 1px solid gray;box-sizing: border-box;top: 0;bottom: 0;left: 50%;z-index: -1;}#sk-container-id-1 div.sk-parallel-item {display: flex;flex-direction: column;z-index: 1;position: relative;background-color: white;}#sk-container-id-1 div.sk-parallel-item:first-child::after {align-self: flex-end;width: 50%;}#sk-container-id-1 div.sk-parallel-item:last-child::after {align-self: flex-start;width: 50%;}#sk-container-id-1 div.sk-parallel-item:only-child::after {width: 0;}#sk-container-id-1 div.sk-dashed-wrapped {border: 1px dashed gray;margin: 0 0.4em 0.5em 0.4em;box-sizing: border-box;padding-bottom: 0.4em;background-color: white;}#sk-container-id-1 div.sk-label label {font-family: monospace;font-weight: bold;display: inline-block;line-height: 1.2em;}#sk-container-id-1 div.sk-label-container {text-align: center;}#sk-container-id-1 div.sk-container {/* jupyter's `normalize.less` sets `[hidden] { display: none; }` but bootstrap.min.css set `[hidden] { display: none !important; }` so we also need the `!important` here to be able to override the default hidden behavior on the sphinx rendered scikit-learn.org. See: https://github.com/scikit-learn/scikit-learn/issues/21755 */display: inline-block !important;position: relative;}#sk-container-id-1 div.sk-text-repr-fallback {display: none;}</style><div id=\"sk-container-id-1\" class=\"sk-top-container\"><div class=\"sk-text-repr-fallback\"><pre>SVC(class_weight=&#x27;balanced&#x27;, gamma=1000.0, kernel=&#x27;linear&#x27;, max_iter=1000000.0)</pre><b>In a Jupyter environment, please rerun this cell to show the HTML representation or trust the notebook. <br />On GitHub, the HTML representation is unable to render, please try loading this page with nbviewer.org.</b></div><div class=\"sk-container\" hidden><div class=\"sk-item\"><div class=\"sk-estimator sk-toggleable\"><input class=\"sk-toggleable__control sk-hidden--visually\" id=\"sk-estimator-id-1\" type=\"checkbox\" checked><label for=\"sk-estimator-id-1\" class=\"sk-toggleable__label sk-toggleable__label-arrow\">SVC</label><div class=\"sk-toggleable__content\"><pre>SVC(class_weight=&#x27;balanced&#x27;, gamma=1000.0, kernel=&#x27;linear&#x27;, max_iter=1000000.0)</pre></div></div></div></div></div>"
      ],
      "text/plain": [
       "SVC(class_weight='balanced', gamma=1000.0, kernel='linear', max_iter=1000000.0)"
      ]
     },
     "execution_count": 37,
     "metadata": {},
     "output_type": "execute_result"
    }
   ],
   "source": [
    "# inizializzo e traino il best estimator\n",
    "\n",
    "clf = SVC(kernel='linear', gamma=1e3, class_weight='balanced', max_iter=1e6)\n",
    "clf.fit(X_train, y_train)"
   ]
  },
  {
   "cell_type": "code",
   "execution_count": 38,
   "id": "31c7ec9a",
   "metadata": {},
   "outputs": [
    {
     "data": {
      "text/plain": [
       "{'Avg Accuracy Baseline': (0.5086666034575392, 0.014134964279642106),\n",
       " 'Avg F1-Macro baseline': (0.33710490543954735, 0.006203907648926391),\n",
       " 'Avg Accuracy Model': (0.6605477070889036, 0.008089593445442442),\n",
       " 'Avg F1-Macro Model': (0.6591851979662672, 0.008492997800972377)}"
      ]
     },
     "execution_count": 38,
     "metadata": {},
     "output_type": "execute_result"
    }
   ],
   "source": [
    "# valuto il best estimator su train con 5-Fold CV\n",
    "\n",
    "KFold_CV(5, clf, X_train, y_train)"
   ]
  },
  {
   "cell_type": "code",
   "execution_count": 39,
   "id": "9f00ea56",
   "metadata": {},
   "outputs": [
    {
     "name": "stdout",
     "output_type": "stream",
     "text": [
      "              precision    recall  f1-score   support\n",
      "\n",
      "           0       0.69      0.62      0.65       437\n",
      "           1       0.65      0.71      0.68       435\n",
      "\n",
      "    accuracy                           0.67       872\n",
      "   macro avg       0.67      0.67      0.67       872\n",
      "weighted avg       0.67      0.67      0.67       872\n",
      "\n"
     ]
    }
   ],
   "source": [
    "# valuto il best estimator su hold-out test\n",
    "\n",
    "y_pred = clf.predict(X_test)\n",
    "print(classification_report(y_test, y_pred))"
   ]
  },
  {
   "cell_type": "code",
   "execution_count": 40,
   "id": "62b4a14c",
   "metadata": {},
   "outputs": [
    {
     "data": {
      "image/png": "[encoded data removed]",
      "text/plain": [
       "<Figure size 432x288 with 2 Axes>"
      ]
     },
     "metadata": {},
     "output_type": "display_data"
    }
   ],
   "source": [
    "# visualizzo la matrice di confusione\n",
    "\n",
    "cm = confusion_matrix(y_test, y_pred)\n",
    "sns.heatmap(cm, annot=True, fmt=\"d\", cmap=\"Blues\")\n",
    "plt.show()"
   ]
  },
  {
   "cell_type": "code",
   "execution_count": 41,
   "id": "5c3424f5",
   "metadata": {},
   "outputs": [
    {
     "data": {
      "image/png": "[encoded data removed]",
      "text/plain": [
       "<Figure size 360x360 with 1 Axes>"
      ]
     },
     "metadata": {},
     "output_type": "display_data"
    }
   ],
   "source": [
    "# visualizzo le prime 15 variabili con la più alta feature importance\n",
    "\n",
    "train_columns = [column for column in profiling_output.drop(['irony', 'irony_sarcasm', 'set'], axis=1)]\n",
    "features_names = train_columns[1:]\n",
    "idx = 0\n",
    "coefs = np.abs(clf.coef_[idx])\n",
    "feature_importances = {feature_name: coef for feature_name, coef in zip(features_names, coefs)}\n",
    "sorted_feature_importances = dict(sorted(feature_importances.items(), key=lambda item: item[1], reverse=False))\n",
    "num_to_plot = 15\n",
    "plt.figure(figsize=(5, 5))\n",
    "plt.yticks(fontsize=12)\n",
    "plt.xticks(fontsize=11)\n",
    "plt.xlabel('Feature Importance')\n",
    "plt.barh(range(num_to_plot), list(sorted_feature_importances.values())[:num_to_plot], align='center')\n",
    "plt.yticks(range(num_to_plot), list(sorted_feature_importances.keys())[:num_to_plot])\n",
    "plt.show()"
   ]
  },
  {
   "cell_type": "markdown",
   "id": "14da168a",
   "metadata": {},
   "source": [
    "### Classificazione multi-classe di irony_sarcasm"
   ]
  },
  {
   "cell_type": "code",
   "execution_count": 42,
   "id": "c2171b2a",
   "metadata": {},
   "outputs": [],
   "source": [
    "# inizializzo X, y\n",
    "\n",
    "X_train = df_train.drop(['irony', 'irony_sarcasm'], axis=1)\n",
    "y_train = df_train['irony_sarcasm'].to_numpy()\n",
    "X_test = df_test.drop(['irony', 'irony_sarcasm'], axis=1)\n",
    "y_test = df_test['irony_sarcasm'].to_numpy()"
   ]
  },
  {
   "cell_type": "code",
   "execution_count": 43,
   "id": "4fb92173",
   "metadata": {},
   "outputs": [
    {
     "name": "stdout",
     "output_type": "stream",
     "text": [
      "(3977, 133) (3977,)\n",
      "(872, 133) (872,)\n"
     ]
    }
   ],
   "source": [
    "print(X_train.shape, y_train.shape)\n",
    "print(X_test.shape, y_test.shape)"
   ]
  },
  {
   "cell_type": "code",
   "execution_count": 44,
   "id": "a96468b6",
   "metadata": {},
   "outputs": [],
   "source": [
    "# normalizzo X_train, X_test\n",
    "\n",
    "scaler = MinMaxScaler()\n",
    "X_train = scaler.fit_transform(X_train)\n",
    "X_test = scaler.fit_transform(X_test)"
   ]
  },
  {
   "cell_type": "code",
   "execution_count": 45,
   "id": "be4acfa8",
   "metadata": {},
   "outputs": [
    {
     "name": "stdout",
     "output_type": "stream",
     "text": [
      "(3977, 133) (872, 133)\n"
     ]
    }
   ],
   "source": [
    "print(X_train.shape, X_test.shape)"
   ]
  },
  {
   "cell_type": "code",
   "execution_count": null,
   "id": "7822d44b",
   "metadata": {},
   "outputs": [],
   "source": [
    "# effettuo randomized search su X_train, y_train\n",
    "\n",
    "randomized_search_svm(X_train, y_train, scoring='f1_macro')"
   ]
  },
  {
   "cell_type": "code",
   "execution_count": 48,
   "id": "1214c3fc",
   "metadata": {},
   "outputs": [
    {
     "data": {
      "text/html": [
       "<style>#sk-container-id-2 {color: black;background-color: white;}#sk-container-id-2 pre{padding: 0;}#sk-container-id-2 div.sk-toggleable {background-color: white;}#sk-container-id-2 label.sk-toggleable__label {cursor: pointer;display: block;width: 100%;margin-bottom: 0;padding: 0.3em;box-sizing: border-box;text-align: center;}#sk-container-id-2 label.sk-toggleable__label-arrow:before {content: \"▸\";float: left;margin-right: 0.25em;color: #696969;}#sk-container-id-2 label.sk-toggleable__label-arrow:hover:before {color: black;}#sk-container-id-2 div.sk-estimator:hover label.sk-toggleable__label-arrow:before {color: black;}#sk-container-id-2 div.sk-toggleable__content {max-height: 0;max-width: 0;overflow: hidden;text-align: left;background-color: #f0f8ff;}#sk-container-id-2 div.sk-toggleable__content pre {margin: 0.2em;color: black;border-radius: 0.25em;background-color: #f0f8ff;}#sk-container-id-2 input.sk-toggleable__control:checked~div.sk-toggleable__content {max-height: 200px;max-width: 100%;overflow: auto;}#sk-container-id-2 input.sk-toggleable__control:checked~label.sk-toggleable__label-arrow:before {content: \"▾\";}#sk-container-id-2 div.sk-estimator input.sk-toggleable__control:checked~label.sk-toggleable__label {background-color: #d4ebff;}#sk-container-id-2 div.sk-label input.sk-toggleable__control:checked~label.sk-toggleable__label {background-color: #d4ebff;}#sk-container-id-2 input.sk-hidden--visually {border: 0;clip: rect(1px 1px 1px 1px);clip: rect(1px, 1px, 1px, 1px);height: 1px;margin: -1px;overflow: hidden;padding: 0;position: absolute;width: 1px;}#sk-container-id-2 div.sk-estimator {font-family: monospace;background-color: #f0f8ff;border: 1px dotted black;border-radius: 0.25em;box-sizing: border-box;margin-bottom: 0.5em;}#sk-container-id-2 div.sk-estimator:hover {background-color: #d4ebff;}#sk-container-id-2 div.sk-parallel-item::after {content: \"\";width: 100%;border-bottom: 1px solid gray;flex-grow: 1;}#sk-container-id-2 div.sk-label:hover label.sk-toggleable__label {background-color: #d4ebff;}#sk-container-id-2 div.sk-serial::before {content: \"\";position: absolute;border-left: 1px solid gray;box-sizing: border-box;top: 0;bottom: 0;left: 50%;z-index: 0;}#sk-container-id-2 div.sk-serial {display: flex;flex-direction: column;align-items: center;background-color: white;padding-right: 0.2em;padding-left: 0.2em;position: relative;}#sk-container-id-2 div.sk-item {position: relative;z-index: 1;}#sk-container-id-2 div.sk-parallel {display: flex;align-items: stretch;justify-content: center;background-color: white;position: relative;}#sk-container-id-2 div.sk-item::before, #sk-container-id-2 div.sk-parallel-item::before {content: \"\";position: absolute;border-left: 1px solid gray;box-sizing: border-box;top: 0;bottom: 0;left: 50%;z-index: -1;}#sk-container-id-2 div.sk-parallel-item {display: flex;flex-direction: column;z-index: 1;position: relative;background-color: white;}#sk-container-id-2 div.sk-parallel-item:first-child::after {align-self: flex-end;width: 50%;}#sk-container-id-2 div.sk-parallel-item:last-child::after {align-self: flex-start;width: 50%;}#sk-container-id-2 div.sk-parallel-item:only-child::after {width: 0;}#sk-container-id-2 div.sk-dashed-wrapped {border: 1px dashed gray;margin: 0 0.4em 0.5em 0.4em;box-sizing: border-box;padding-bottom: 0.4em;background-color: white;}#sk-container-id-2 div.sk-label label {font-family: monospace;font-weight: bold;display: inline-block;line-height: 1.2em;}#sk-container-id-2 div.sk-label-container {text-align: center;}#sk-container-id-2 div.sk-container {/* jupyter's `normalize.less` sets `[hidden] { display: none; }` but bootstrap.min.css set `[hidden] { display: none !important; }` so we also need the `!important` here to be able to override the default hidden behavior on the sphinx rendered scikit-learn.org. See: https://github.com/scikit-learn/scikit-learn/issues/21755 */display: inline-block !important;position: relative;}#sk-container-id-2 div.sk-text-repr-fallback {display: none;}</style><div id=\"sk-container-id-2\" class=\"sk-top-container\"><div class=\"sk-text-repr-fallback\"><pre>SVC(gamma=0.0001, kernel=&#x27;linear&#x27;, max_iter=1000000.0)</pre><b>In a Jupyter environment, please rerun this cell to show the HTML representation or trust the notebook. <br />On GitHub, the HTML representation is unable to render, please try loading this page with nbviewer.org.</b></div><div class=\"sk-container\" hidden><div class=\"sk-item\"><div class=\"sk-estimator sk-toggleable\"><input class=\"sk-toggleable__control sk-hidden--visually\" id=\"sk-estimator-id-2\" type=\"checkbox\" checked><label for=\"sk-estimator-id-2\" class=\"sk-toggleable__label sk-toggleable__label-arrow\">SVC</label><div class=\"sk-toggleable__content\"><pre>SVC(gamma=0.0001, kernel=&#x27;linear&#x27;, max_iter=1000000.0)</pre></div></div></div></div></div>"
      ],
      "text/plain": [
       "SVC(gamma=0.0001, kernel='linear', max_iter=1000000.0)"
      ]
     },
     "execution_count": 48,
     "metadata": {},
     "output_type": "execute_result"
    }
   ],
   "source": [
    "# inizializzo e traino il best estimator\n",
    "\n",
    "clf = SVC(kernel='linear', gamma=1e-4, max_iter=1e6)\n",
    "clf.fit(X_train, y_train)"
   ]
  },
  {
   "cell_type": "code",
   "execution_count": 49,
   "id": "0e1e2e9d",
   "metadata": {},
   "outputs": [
    {
     "data": {
      "text/plain": [
       "{'Avg Accuracy Baseline': (0.4913333965424608, 0.014134964279642106),\n",
       " 'Avg F1-Macro baseline': (0.21959920720225262, 0.004242458302661342),\n",
       " 'Avg Accuracy Model': (0.5230131791030626, 0.01816205285435545),\n",
       " 'Avg F1-Macro Model': (0.40011863466580727, 0.01304098920951403)}"
      ]
     },
     "execution_count": 49,
     "metadata": {},
     "output_type": "execute_result"
    }
   ],
   "source": [
    "# valuto il best estimator su train con 5-Fold CV\n",
    "\n",
    "KFold_CV(5, clf, X_train, y_train)"
   ]
  },
  {
   "cell_type": "code",
   "execution_count": 50,
   "id": "725a643f",
   "metadata": {},
   "outputs": [
    {
     "name": "stdout",
     "output_type": "stream",
     "text": [
      "              precision    recall  f1-score   support\n",
      "\n",
      "           0       0.59      0.76      0.67       437\n",
      "           1       0.34      0.43      0.38       219\n",
      "           2       0.39      0.07      0.12       216\n",
      "\n",
      "    accuracy                           0.51       872\n",
      "   macro avg       0.44      0.42      0.39       872\n",
      "weighted avg       0.48      0.51      0.46       872\n",
      "\n"
     ]
    }
   ],
   "source": [
    "# valuto il best estimator su hold-out test\n",
    "\n",
    "y_pred = clf.predict(X_test)\n",
    "print(classification_report(y_test, y_pred))"
   ]
  },
  {
   "cell_type": "code",
   "execution_count": 51,
   "id": "7048fb71",
   "metadata": {},
   "outputs": [
    {
     "data": {
      "image/png": "[encoded data removed]",
      "text/plain": [
       "<Figure size 432x288 with 2 Axes>"
      ]
     },
     "metadata": {},
     "output_type": "display_data"
    }
   ],
   "source": [
    "# visualizzo la matrice di confusione\n",
    "\n",
    "cm = confusion_matrix(y_test, y_pred)\n",
    "sns.heatmap(cm, annot=True, fmt=\"d\", cmap=\"Blues\")\n",
    "plt.show()"
   ]
  },
  {
   "cell_type": "code",
   "execution_count": 52,
   "id": "8c516ba8",
   "metadata": {},
   "outputs": [
    {
     "data": {
      "image/png": "[encoded data removed]",
      "text/plain": [
       "<Figure size 360x360 with 1 Axes>"
      ]
     },
     "metadata": {},
     "output_type": "display_data"
    }
   ],
   "source": [
    "# visualizzo le prime 15 variabili con la più alta feature importance\n",
    "\n",
    "train_columns = [column for column in profiling_output.drop(['irony', 'irony_sarcasm', 'set'], axis=1)]\n",
    "features_names = train_columns[1:]\n",
    "idx = 0\n",
    "coefs = np.abs(clf.coef_[idx])\n",
    "feature_importances = {feature_name: coef for feature_name, coef in zip(features_names, coefs)}\n",
    "sorted_feature_importances = dict(sorted(feature_importances.items(), key=lambda item: item[1], reverse=False))\n",
    "num_to_plot = 15\n",
    "plt.figure(figsize=(5, 5))\n",
    "plt.yticks(fontsize=12)\n",
    "plt.xticks([0, 0.01, 0.02, 0.03, 0.04], fontsize=11)\n",
    "plt.xlabel('Feature Importance')\n",
    "plt.barh(range(num_to_plot), list(sorted_feature_importances.values())[:num_to_plot], align='center')\n",
    "plt.yticks(range(num_to_plot), list(sorted_feature_importances.keys())[:num_to_plot])\n",
    "plt.show()"
   ]
  },
  {
   "cell_type": "markdown",
   "id": "7ce4eb1e",
   "metadata": {},
   "source": [
    "# Classificazione con informazione lessicale"
   ]
  },
  {
   "cell_type": "markdown",
   "id": "07af30b8",
   "metadata": {},
   "source": [
    "### Data Preparation"
   ]
  },
  {
   "cell_type": "code",
   "execution_count": 53,
   "id": "57395b02",
   "metadata": {},
   "outputs": [],
   "source": [
    "def load_files(conllu_dir):\n",
    "    \n",
    "    '''Prende in input la directory con i file e li\n",
    "    restituisce in una lista'''\n",
    "    \n",
    "    files = []\n",
    "    for file_name in os.listdir(conllu_dir):\n",
    "        file_path = os.path.join(conllu_dir, file_name)\n",
    "        files.append(file_path)\n",
    "    return files"
   ]
  },
  {
   "cell_type": "code",
   "execution_count": 54,
   "id": "fcf580c0",
   "metadata": {},
   "outputs": [],
   "source": [
    "# carico i file dalla directory che contiene le annotazioni\n",
    "\n",
    "files = load_files('annotation_output')"
   ]
  },
  {
   "cell_type": "code",
   "execution_count": 55,
   "id": "36d6a80a",
   "metadata": {},
   "outputs": [],
   "source": [
    "# separo train files e test files\n",
    "\n",
    "train_files = []\n",
    "test_files = []\n",
    "\n",
    "\n",
    "for file in files:\n",
    "    index = int(re.findall(r\"(\\d+)\", file)[0]) # recupero l'indice dal nome del file\n",
    "    split = df.iloc[index]['set'] # recupero il valore corrispondente di 'set' da df\n",
    "    if split == 'training':\n",
    "        train_files.append(file)\n",
    "    else:\n",
    "        test_files.append(file)"
   ]
  },
  {
   "cell_type": "code",
   "execution_count": 56,
   "id": "b500658a",
   "metadata": {},
   "outputs": [
    {
     "name": "stdout",
     "output_type": "stream",
     "text": [
      "3977\n",
      "872\n"
     ]
    }
   ],
   "source": [
    "print(len(train_files))\n",
    "print(len(test_files))"
   ]
  },
  {
   "cell_type": "markdown",
   "id": "d535b3aa",
   "metadata": {},
   "source": [
    "### Definizione di metodi per l'estrazione delle features"
   ]
  },
  {
   "cell_type": "code",
   "execution_count": 57,
   "id": "7212bd33",
   "metadata": {},
   "outputs": [],
   "source": [
    "def get_sentences_from_file(src_path):\n",
    "    \n",
    "    ''' Prende in input il path di un file con annotazione linguistica e restituisce una lista\n",
    "    con le frasi del testo. Ciascuna frase è rappresentata con una lista di dizionari (parole).'''\n",
    "    \n",
    "    post_sentences = []               \n",
    "    sentence = []                      \n",
    "    for line in open(src_path, 'r'):\n",
    "        if line[0].isdigit():          \n",
    "            splitted_line = line.strip().split('\\t')\n",
    "            if '-' not in splitted_line[0]:  \n",
    "                token = {\n",
    "                    'word': splitted_line[1],\n",
    "                    'lemma': splitted_line[2],\n",
    "                    'pos': splitted_line[3]\n",
    "                }\n",
    "                sentence.append(token)\n",
    "        if line == '\\n':  \n",
    "            post_sentences.append(sentence)\n",
    "            sentence = []\n",
    "    return post_sentences"
   ]
  },
  {
   "cell_type": "code",
   "execution_count": 58,
   "id": "63601392",
   "metadata": {},
   "outputs": [],
   "source": [
    "def extract_word_ngrams(word_ngrams, sentence, el, n):\n",
    "    \n",
    "    '''Prende in input una frase e restituisce n-grammi di parole'''\n",
    "    \n",
    "    all_words = [] # creo una lista con tutte le parole\n",
    "    for token in sentence:\n",
    "        all_words.append(token[el])\n",
    "   \n",
    "    for i in range(0, len(all_words) - n + 1): # estraggo gli n-grammi\n",
    "        ngram_words = all_words[i: i + n]\n",
    "        ngram = f'{el.upper()}_{n}_' + '_'.join(ngram_words)\n",
    "        if ngram not in word_ngrams:\n",
    "            word_ngrams[ngram] = 1\n",
    "        else:\n",
    "            word_ngrams[ngram] += 1\n",
    "    \n",
    "    return word_ngrams"
   ]
  },
  {
   "cell_type": "code",
   "execution_count": 59,
   "id": "ea56d48f",
   "metadata": {},
   "outputs": [],
   "source": [
    "def extract_char_ngrams(char_ngrams, sentence, n):\n",
    "    \n",
    "    '''Prende in input una frase e restituisce n-grammi di caratteri'''\n",
    "    \n",
    "    all_words = []\n",
    "    for token in sentence:\n",
    "        all_words.append(token['word'])\n",
    "\n",
    "    all_words = ' '.join(all_words)\n",
    "    for i in range(0, len(all_words) - n + 1):\n",
    "        ngram_chars = all_words[i:i + n]\n",
    "        ngram = f'CHAR_{n}_' + ngram_chars\n",
    "\n",
    "        if ngram not in char_ngrams:\n",
    "            char_ngrams[ngram] = 1\n",
    "        else:\n",
    "            char_ngrams[ngram] += 1\n",
    "    \n",
    "    return char_ngrams"
   ]
  },
  {
   "cell_type": "code",
   "execution_count": 60,
   "id": "c937a3b7",
   "metadata": {},
   "outputs": [],
   "source": [
    "# definisco funzioni per la normalizzazione degli n-grammi\n",
    "\n",
    "def count_post_words(post):\n",
    "    \n",
    "    '''Restituisce il numero di parole di un post'''\n",
    "    \n",
    "    num_words = 0\n",
    "    for sentence in post:\n",
    "        num_words += len(sentence)\n",
    "    return num_words\n",
    "\n",
    "\n",
    "def count_post_chars(post):\n",
    "    \n",
    "    '''Restituisce il numero di caratteri di un post'''\n",
    "    \n",
    "    num_chars = 0\n",
    "    for sentence in post:\n",
    "        for token in sentence:\n",
    "            num_chars += len(token['word'])\n",
    "        num_chars += len(sentence) - 1  # includo gli spazi nel conteggio\n",
    "    return num_chars\n",
    "\n",
    "def normalize_ngrams(ngrams_dict, post_len):\n",
    "    \n",
    "    '''Normalizza gli n-grammi di una frase rispetto alla lunghezza del post'''\n",
    "    \n",
    "    for key in ngrams_dict:\n",
    "        ngrams_dict[key] = ngrams_dict[key]/float(post_len)"
   ]
  },
  {
   "cell_type": "code",
   "execution_count": 61,
   "id": "82589fca",
   "metadata": {},
   "outputs": [],
   "source": [
    "def extract_features_from_word_ngrams(dataset, e, n):\n",
    "    \n",
    "    '''Estrae features da n-grammi di parole'''\n",
    "    \n",
    "    dataset_features = []\n",
    "    for post in dataset:\n",
    "        word_ngrams = dict()\n",
    "        for sentence in post:\n",
    "            extract_word_ngrams(word_ngrams, sentence, e, n)\n",
    "        num_words = count_post_words(post)\n",
    "        normalize_ngrams(word_ngrams, num_words)\n",
    "        dataset_features.append(word_ngrams)\n",
    "    return dataset_features"
   ]
  },
  {
   "cell_type": "code",
   "execution_count": 62,
   "id": "e9297585",
   "metadata": {},
   "outputs": [],
   "source": [
    "def extract_features_from_char_ngrams(dataset, n):\n",
    "    \n",
    "    '''Estrae features da n-grammi di caratteri'''\n",
    "    \n",
    "    dataset_features = []\n",
    "    for post in dataset:\n",
    "        char_ngrams = dict()\n",
    "        for sentence in post:\n",
    "            extract_char_ngrams(char_ngrams, sentence, n)\n",
    "        num_chars = count_post_chars(post)\n",
    "        normalize_ngrams(char_ngrams, num_chars)\n",
    "        dataset_features.append(char_ngrams)\n",
    "    return dataset_features"
   ]
  },
  {
   "cell_type": "code",
   "execution_count": 63,
   "id": "1fa3c8fa",
   "metadata": {},
   "outputs": [],
   "source": [
    "def get_num_features(dataset):\n",
    "    \n",
    "    '''Restituisce il numero di features del dataset'''\n",
    "\n",
    "    all_features = set()\n",
    "    for post_dict in dataset:\n",
    "        all_features.update(list(post_dict.keys()))\n",
    "    return len(all_features)"
   ]
  },
  {
   "cell_type": "code",
   "execution_count": 64,
   "id": "c45d8911",
   "metadata": {},
   "outputs": [],
   "source": [
    "def filter_features(features, min_occurrences):\n",
    "    \n",
    "    '''Restituisce train_features che occorrono almeno min_occurrences'''\n",
    "    \n",
    "    features_counter = dict()\n",
    "    for post_dict in features:\n",
    "        for feature in post_dict:\n",
    "            if feature in features_counter:\n",
    "                features_counter[feature] += 1\n",
    "            else:\n",
    "                features_counter[feature] = 1\n",
    "\n",
    "    for post_dict in features:\n",
    "        post_features = list(post_dict.keys())\n",
    "        for feature in post_features:\n",
    "            if features_counter[feature] < min_occurrences:\n",
    "                post_dict.pop(feature)\n",
    "                \n",
    "    return features"
   ]
  },
  {
   "cell_type": "code",
   "execution_count": 65,
   "id": "7c186288",
   "metadata": {},
   "outputs": [],
   "source": [
    "def generate_y(files, target_name):\n",
    "    \n",
    "    '''Prende in input i file con annotazione e restituisce le labels corrispondenti\n",
    "    di un target prescelto'''\n",
    "    \n",
    "    labels = []\n",
    "    for file in files:\n",
    "        index = int(re.findall(r\"(\\d+)\", file)[0]) # recupero l'indice dal nome del file\n",
    "        label = df.iloc[index][target_name] \n",
    "        labels.append(label)\n",
    "    return np.array(labels)"
   ]
  },
  {
   "cell_type": "markdown",
   "id": "5bd2ac23",
   "metadata": {},
   "source": [
    "###  Valutazione di diverse configurazioni di n-grammi con K-Fold CV (TR) per irony"
   ]
  },
  {
   "cell_type": "code",
   "execution_count": 66,
   "id": "4e4fe5d0",
   "metadata": {},
   "outputs": [],
   "source": [
    "def extract_features(dataset, n, combinations):\n",
    "    \n",
    "    '''Genera un dataset di features a partire da diverse combinazioni di n-grammi'''\n",
    "    \n",
    "    dataset_features = []\n",
    "    for document in dataset:\n",
    "        num_words = count_post_words(document) \n",
    "        num_chars = count_post_chars(document)\n",
    "        document_features = []\n",
    "        for sentence in document:\n",
    "            for e in combinations:\n",
    "                if e == 'char':\n",
    "                    feature = extract_char_ngrams(dict(), sentence, n)\n",
    "                    normalize_ngrams(feature, num_chars)\n",
    "                    document_features.append(feature)\n",
    "                else:\n",
    "                    feature = extract_word_ngrams(dict(), sentence, e, n)\n",
    "                    normalize_ngrams(feature, num_words)\n",
    "                    document_features.append(feature)\n",
    "        user_features = dict()\n",
    "        for ngrams_dict in document_features:\n",
    "            for ngram in ngrams_dict:\n",
    "                user_features[ngram] = ngrams_dict[ngram]\n",
    "        dataset_features.append(user_features)\n",
    "    return dataset_features "
   ]
  },
  {
   "cell_type": "code",
   "execution_count": 67,
   "id": "2c48dcf4",
   "metadata": {},
   "outputs": [],
   "source": [
    "# genero il train dataset \n",
    "\n",
    "train_dataset = []\n",
    "\n",
    "for post_path in train_files:\n",
    "    post_sentences = get_sentences_from_file(post_path)\n",
    "    train_dataset.append(post_sentences)"
   ]
  },
  {
   "cell_type": "code",
   "execution_count": 68,
   "id": "30a209c2",
   "metadata": {},
   "outputs": [],
   "source": [
    "# genero il test dataset\n",
    "\n",
    "test_dataset = []\n",
    "\n",
    "for file_path in test_files:\n",
    "    doc_sentences = get_sentences_from_file(file_path)\n",
    "    test_dataset.append(doc_sentences)"
   ]
  },
  {
   "cell_type": "code",
   "execution_count": 70,
   "id": "fd8195c6",
   "metadata": {},
   "outputs": [],
   "source": [
    "def powerset(s):\n",
    "    \n",
    "    '''Restituisce il powerset di un array s escluso il set vuoto'''\n",
    "    \n",
    "    powerset = list()\n",
    "    x = len(s)\n",
    "    for i in range(1, 1 << x):\n",
    "        item = [s[j] for j in range(x) if (i & (1 << j))]\n",
    "        powerset.append(item)\n",
    "    return powerset"
   ]
  },
  {
   "cell_type": "code",
   "execution_count": 71,
   "id": "a7819923",
   "metadata": {},
   "outputs": [],
   "source": [
    "# genero un dizionario (results) con la media di F1-Macro su 5-Fold CV di SVM lineare per ogni combinazione di n-grammi\n",
    "\n",
    "elements = ['word', 'lemma', 'pos', 'char']\n",
    "combinations = powerset(elements)\n",
    "results = dict()\n",
    "for n in range(1, 5): \n",
    "    for combination in combinations:\n",
    "        \n",
    "        # genero le train features\n",
    "        train_features = extract_features(train_dataset, n, combination)\n",
    "        train_features = filter_features(train_features, 5)\n",
    "        \n",
    "        # genero X_train, y_train\n",
    "        vectorizer = DictVectorizer() # trasformazione in matrice sparsa\n",
    "        X_train = vectorizer.fit_transform(train_features)\n",
    "        scaler = MaxAbsScaler() # normalizzazione\n",
    "        X_train = scaler.fit_transform(X_train)\n",
    "        y_train = generate_y(train_files, 'irony')\n",
    "        \n",
    "        # traino LinearSVC\n",
    "        clf = LinearSVC(max_iter=1e4)\n",
    "        \n",
    "        # valuto con KFold su X_train, y_train\n",
    "        kfold_results = KFold_CV(5, clf, X_train, y_train)\n",
    "        avg_f1_macro = kfold_results['Avg F1-Macro Model'][0]\n",
    "        \n",
    "        \n",
    "        # salvo in results\n",
    "        key = f\"{n}-grammi di {', '.join(combination)}\"\n",
    "        results[key] = avg_f1_macro"
   ]
  },
  {
   "cell_type": "code",
   "execution_count": 79,
   "id": "8b947b97",
   "metadata": {},
   "outputs": [
    {
     "data": {
      "image/png": "[encoded data removed]",
      "text/plain": [
       "<Figure size 288x1152 with 1 Axes>"
      ]
     },
     "metadata": {},
     "output_type": "display_data"
    }
   ],
   "source": [
    "# visualizzo gli F1-Macro medi di ciascuna combinazione di n-grammi \n",
    "\n",
    "sorted_data = sorted(results.items(), key=lambda x: x[1], reverse=False)\n",
    "key, values = zip(*sorted_data)\n",
    "\n",
    "plt.figure(figsize=(4, 16))\n",
    "plt.barh(key, values)\n",
    "plt.xlabel('F1-Macro Medio', fontsize=16)\n",
    "plt.xticks(fontsize=14)\n",
    "plt.yticks(fontsize=14)\n",
    "plt.show()"
   ]
  },
  {
   "cell_type": "markdown",
   "id": "c3f9b904",
   "metadata": {},
   "source": [
    "### Classificazione binaria di irony"
   ]
  },
  {
   "cell_type": "code",
   "execution_count": 80,
   "id": "03d6c692",
   "metadata": {},
   "outputs": [],
   "source": [
    "# ridefinisco extract_features per includere solo le features più importanti nel feature set\n",
    "\n",
    "def extract_features(dataset):\n",
    "    \n",
    "    '''Genera un dataset di features a partire da diverse combinazioni di n-grammi'''\n",
    "    \n",
    "    dataset_features = []\n",
    "    for document in dataset:\n",
    "        lemma_unigrams = dict()\n",
    "        char_unigrams = dict()\n",
    "        char_quadrigrams = dict()\n",
    "        lemma_quadrigrams = dict()\n",
    "        for sentence in document:\n",
    "            extract_word_ngrams(lemma_unigrams, sentence, 'lemma', 1)\n",
    "            extract_char_ngrams(char_unigrams, sentence, 1)\n",
    "            extract_char_ngrams(char_quadrigrams, sentence, 4)\n",
    "            extract_word_ngrams(lemma_quadrigrams, sentence, 'lemma', 4)\n",
    "\n",
    "        num_words = count_post_words(document)\n",
    "        num_chars = count_post_chars(document)\n",
    "        normalize_ngrams(lemma_unigrams, num_words)\n",
    "        normalize_ngrams(char_unigrams, num_chars)\n",
    "        normalize_ngrams(char_quadrigrams, num_chars)\n",
    "        normalize_ngrams(lemma_quadrigrams, num_words)\n",
    "        \n",
    "        user_features = dict()\n",
    "        for ngrams_dict in [lemma_unigrams, char_unigrams, char_quadrigrams, lemma_quadrigrams]:\n",
    "            for ngram in ngrams_dict:\n",
    "                user_features[ngram] = ngrams_dict[ngram]\n",
    "\n",
    "        dataset_features.append(user_features)\n",
    "    return dataset_features"
   ]
  },
  {
   "cell_type": "code",
   "execution_count": 81,
   "id": "31622c28",
   "metadata": {},
   "outputs": [],
   "source": [
    "# genero il train dataset \n",
    "\n",
    "train_dataset = []\n",
    "\n",
    "for post_path in train_files:\n",
    "    post_sentences = get_sentences_from_file(post_path)\n",
    "    train_dataset.append(post_sentences)"
   ]
  },
  {
   "cell_type": "code",
   "execution_count": 82,
   "id": "6e27c6d8",
   "metadata": {},
   "outputs": [
    {
     "data": {
      "text/plain": [
       "126335"
      ]
     },
     "execution_count": 82,
     "metadata": {},
     "output_type": "execute_result"
    }
   ],
   "source": [
    "# estraggo le train features\n",
    "\n",
    "train_features = extract_features(train_dataset)\n",
    "get_num_features(train_features)"
   ]
  },
  {
   "cell_type": "code",
   "execution_count": 83,
   "id": "40de2ae6",
   "metadata": {},
   "outputs": [
    {
     "data": {
      "text/plain": [
       "12689"
      ]
     },
     "execution_count": 83,
     "metadata": {},
     "output_type": "execute_result"
    }
   ],
   "source": [
    "# filtro le features meno importanti\n",
    "\n",
    "train_features = filter_features(train_features, 5)\n",
    "get_num_features(train_features)"
   ]
  },
  {
   "cell_type": "code",
   "execution_count": 84,
   "id": "e738d9d6",
   "metadata": {},
   "outputs": [],
   "source": [
    "# genero X_train, y_train\n",
    "\n",
    "vectorizer = DictVectorizer() # trasformazione in matrice sparsa\n",
    "X_train = vectorizer.fit_transform(train_features)\n",
    "\n",
    "scaler = MaxAbsScaler() # normalizzazione\n",
    "X_train = scaler.fit_transform(X_train)\n",
    "\n",
    "y_train = generate_y(train_files, 'irony')"
   ]
  },
  {
   "cell_type": "code",
   "execution_count": 85,
   "id": "b62d0923",
   "metadata": {},
   "outputs": [],
   "source": [
    "# genero il test dataset\n",
    "\n",
    "test_dataset = []\n",
    "\n",
    "for file_path in test_files:\n",
    "    doc_sentences = get_sentences_from_file(file_path)\n",
    "    test_dataset.append(doc_sentences)"
   ]
  },
  {
   "cell_type": "code",
   "execution_count": 86,
   "id": "5220920a",
   "metadata": {},
   "outputs": [],
   "source": [
    "# genero X_test, y_test\n",
    "\n",
    "test_features = extract_features(test_dataset)\n",
    "X_test = vectorizer.transform(test_features)\n",
    "X_test = scaler.transform(X_test)\n",
    "y_test = generate_y(test_files, 'irony')"
   ]
  },
  {
   "cell_type": "code",
   "execution_count": 87,
   "id": "d04c0942",
   "metadata": {
    "scrolled": true
   },
   "outputs": [
    {
     "name": "stdout",
     "output_type": "stream",
     "text": [
      "(3977, 12689) (3977,)\n",
      "(872, 12689) (872,)\n"
     ]
    }
   ],
   "source": [
    "print(X_train.shape, y_train.shape)\n",
    "print(X_test.shape, y_test.shape)"
   ]
  },
  {
   "cell_type": "code",
   "execution_count": 89,
   "id": "a72b2fb1",
   "metadata": {},
   "outputs": [
    {
     "name": "stdout",
     "output_type": "stream",
     "text": [
      "Best score: 0.7394995114639954, Best estimator: SVC(C=100.0, gamma=0.0001, max_iter=1000000.0)\n"
     ]
    }
   ],
   "source": [
    "# effettuo randomized search su X_train, y_train\n",
    "\n",
    "randomized_search_svm(X_train, y_train)"
   ]
  },
  {
   "cell_type": "code",
   "execution_count": 91,
   "id": "e9907f76",
   "metadata": {},
   "outputs": [
    {
     "data": {
      "text/html": [
       "<style>#sk-container-id-3 {color: black;background-color: white;}#sk-container-id-3 pre{padding: 0;}#sk-container-id-3 div.sk-toggleable {background-color: white;}#sk-container-id-3 label.sk-toggleable__label {cursor: pointer;display: block;width: 100%;margin-bottom: 0;padding: 0.3em;box-sizing: border-box;text-align: center;}#sk-container-id-3 label.sk-toggleable__label-arrow:before {content: \"▸\";float: left;margin-right: 0.25em;color: #696969;}#sk-container-id-3 label.sk-toggleable__label-arrow:hover:before {color: black;}#sk-container-id-3 div.sk-estimator:hover label.sk-toggleable__label-arrow:before {color: black;}#sk-container-id-3 div.sk-toggleable__content {max-height: 0;max-width: 0;overflow: hidden;text-align: left;background-color: #f0f8ff;}#sk-container-id-3 div.sk-toggleable__content pre {margin: 0.2em;color: black;border-radius: 0.25em;background-color: #f0f8ff;}#sk-container-id-3 input.sk-toggleable__control:checked~div.sk-toggleable__content {max-height: 200px;max-width: 100%;overflow: auto;}#sk-container-id-3 input.sk-toggleable__control:checked~label.sk-toggleable__label-arrow:before {content: \"▾\";}#sk-container-id-3 div.sk-estimator input.sk-toggleable__control:checked~label.sk-toggleable__label {background-color: #d4ebff;}#sk-container-id-3 div.sk-label input.sk-toggleable__control:checked~label.sk-toggleable__label {background-color: #d4ebff;}#sk-container-id-3 input.sk-hidden--visually {border: 0;clip: rect(1px 1px 1px 1px);clip: rect(1px, 1px, 1px, 1px);height: 1px;margin: -1px;overflow: hidden;padding: 0;position: absolute;width: 1px;}#sk-container-id-3 div.sk-estimator {font-family: monospace;background-color: #f0f8ff;border: 1px dotted black;border-radius: 0.25em;box-sizing: border-box;margin-bottom: 0.5em;}#sk-container-id-3 div.sk-estimator:hover {background-color: #d4ebff;}#sk-container-id-3 div.sk-parallel-item::after {content: \"\";width: 100%;border-bottom: 1px solid gray;flex-grow: 1;}#sk-container-id-3 div.sk-label:hover label.sk-toggleable__label {background-color: #d4ebff;}#sk-container-id-3 div.sk-serial::before {content: \"\";position: absolute;border-left: 1px solid gray;box-sizing: border-box;top: 0;bottom: 0;left: 50%;z-index: 0;}#sk-container-id-3 div.sk-serial {display: flex;flex-direction: column;align-items: center;background-color: white;padding-right: 0.2em;padding-left: 0.2em;position: relative;}#sk-container-id-3 div.sk-item {position: relative;z-index: 1;}#sk-container-id-3 div.sk-parallel {display: flex;align-items: stretch;justify-content: center;background-color: white;position: relative;}#sk-container-id-3 div.sk-item::before, #sk-container-id-3 div.sk-parallel-item::before {content: \"\";position: absolute;border-left: 1px solid gray;box-sizing: border-box;top: 0;bottom: 0;left: 50%;z-index: -1;}#sk-container-id-3 div.sk-parallel-item {display: flex;flex-direction: column;z-index: 1;position: relative;background-color: white;}#sk-container-id-3 div.sk-parallel-item:first-child::after {align-self: flex-end;width: 50%;}#sk-container-id-3 div.sk-parallel-item:last-child::after {align-self: flex-start;width: 50%;}#sk-container-id-3 div.sk-parallel-item:only-child::after {width: 0;}#sk-container-id-3 div.sk-dashed-wrapped {border: 1px dashed gray;margin: 0 0.4em 0.5em 0.4em;box-sizing: border-box;padding-bottom: 0.4em;background-color: white;}#sk-container-id-3 div.sk-label label {font-family: monospace;font-weight: bold;display: inline-block;line-height: 1.2em;}#sk-container-id-3 div.sk-label-container {text-align: center;}#sk-container-id-3 div.sk-container {/* jupyter's `normalize.less` sets `[hidden] { display: none; }` but bootstrap.min.css set `[hidden] { display: none !important; }` so we also need the `!important` here to be able to override the default hidden behavior on the sphinx rendered scikit-learn.org. See: https://github.com/scikit-learn/scikit-learn/issues/21755 */display: inline-block !important;position: relative;}#sk-container-id-3 div.sk-text-repr-fallback {display: none;}</style><div id=\"sk-container-id-3\" class=\"sk-top-container\"><div class=\"sk-text-repr-fallback\"><pre>SVC(C=100.0, gamma=0.0001, max_iter=1000000.0)</pre><b>In a Jupyter environment, please rerun this cell to show the HTML representation or trust the notebook. <br />On GitHub, the HTML representation is unable to render, please try loading this page with nbviewer.org.</b></div><div class=\"sk-container\" hidden><div class=\"sk-item\"><div class=\"sk-estimator sk-toggleable\"><input class=\"sk-toggleable__control sk-hidden--visually\" id=\"sk-estimator-id-3\" type=\"checkbox\" checked><label for=\"sk-estimator-id-3\" class=\"sk-toggleable__label sk-toggleable__label-arrow\">SVC</label><div class=\"sk-toggleable__content\"><pre>SVC(C=100.0, gamma=0.0001, max_iter=1000000.0)</pre></div></div></div></div></div>"
      ],
      "text/plain": [
       "SVC(C=100.0, gamma=0.0001, max_iter=1000000.0)"
      ]
     },
     "execution_count": 91,
     "metadata": {},
     "output_type": "execute_result"
    }
   ],
   "source": [
    "# inizializzo e traino il best estimator\n",
    "\n",
    "clf = SVC(kernel='rbf', gamma=1e-4, C=1e2, max_iter=1e6)\n",
    "clf.fit(X_train, y_train)"
   ]
  },
  {
   "cell_type": "code",
   "execution_count": 92,
   "id": "20878657",
   "metadata": {},
   "outputs": [
    {
     "data": {
      "text/plain": [
       "{'Avg Accuracy Baseline': (0.5086760848266489, 0.018663369136801927),\n",
       " 'Avg F1-Macro baseline': (0.3370654255475562, 0.008227033324035762),\n",
       " 'Avg Accuracy Model': (0.7377405897411585, 0.006643097057100394),\n",
       " 'Avg F1-Macro Model': (0.7359908521516713, 0.007136169086907847)}"
      ]
     },
     "execution_count": 92,
     "metadata": {},
     "output_type": "execute_result"
    }
   ],
   "source": [
    "# valuto il best estimator su train con 5-Fold CV\n",
    "\n",
    "KFold_CV(5, clf, X_train, y_train)"
   ]
  },
  {
   "cell_type": "code",
   "execution_count": 93,
   "id": "fbe4618e",
   "metadata": {},
   "outputs": [
    {
     "name": "stdout",
     "output_type": "stream",
     "text": [
      "              precision    recall  f1-score   support\n",
      "\n",
      "           0       0.77      0.59      0.67       437\n",
      "           1       0.67      0.82      0.74       435\n",
      "\n",
      "    accuracy                           0.71       872\n",
      "   macro avg       0.72      0.71      0.70       872\n",
      "weighted avg       0.72      0.71      0.70       872\n",
      "\n"
     ]
    }
   ],
   "source": [
    "# valuto il best estimator su hold-out test\n",
    "\n",
    "y_pred = clf.predict(X_test)\n",
    "print(classification_report(y_test, y_pred))"
   ]
  },
  {
   "cell_type": "code",
   "execution_count": 94,
   "id": "299ba478",
   "metadata": {},
   "outputs": [
    {
     "data": {
      "image/png": "[encoded data removed]",
      "text/plain": [
       "<Figure size 432x288 with 2 Axes>"
      ]
     },
     "metadata": {},
     "output_type": "display_data"
    }
   ],
   "source": [
    "# visualizzo la matrice di confusione\n",
    "\n",
    "cm = confusion_matrix(y_test, y_pred)\n",
    "sns.heatmap(cm, annot=True, fmt=\"d\", cmap=\"Blues\")\n",
    "plt.show()"
   ]
  },
  {
   "cell_type": "markdown",
   "id": "420cb8bc",
   "metadata": {},
   "source": [
    "### Valutazione di diverse configurazioni di n-grammi con K-Fold CV (TR) per irony_sarcasm"
   ]
  },
  {
   "cell_type": "code",
   "execution_count": 95,
   "id": "2a684e2f",
   "metadata": {},
   "outputs": [],
   "source": [
    "def extract_features(dataset, n, combinations):\n",
    "    \n",
    "    '''Genera un dataset di features a partire da diverse combinazioni di n-grammi'''\n",
    "    \n",
    "    dataset_features = []\n",
    "    for document in dataset:\n",
    "        num_words = count_post_words(document) \n",
    "        num_chars = count_post_chars(document)\n",
    "        document_features = []\n",
    "        for sentence in document:\n",
    "            for e in combinations:\n",
    "                if e == 'char':\n",
    "                    feature = extract_char_ngrams(dict(), sentence, n)\n",
    "                    normalize_ngrams(feature, num_chars)\n",
    "                    document_features.append(feature)\n",
    "                else:\n",
    "                    feature = extract_word_ngrams(dict(), sentence, e, n)\n",
    "                    normalize_ngrams(feature, num_words)\n",
    "                    document_features.append(feature)\n",
    "        user_features = dict()\n",
    "        for ngrams_dict in document_features:\n",
    "            for ngram in ngrams_dict:\n",
    "                user_features[ngram] = ngrams_dict[ngram]\n",
    "        dataset_features.append(user_features)\n",
    "    return dataset_features "
   ]
  },
  {
   "cell_type": "code",
   "execution_count": 96,
   "id": "206ce74a",
   "metadata": {},
   "outputs": [],
   "source": [
    "# genero un dizionario (results) con la media di F1-Macro su 5-Fold CV di SVM lineare per ogni combinazione di n-grammi\n",
    "\n",
    "elements = ['word', 'lemma', 'pos', 'char']\n",
    "combinations = powerset(elements)\n",
    "results = dict()\n",
    "for n in range(1, 5): \n",
    "    for combination in combinations:\n",
    "        \n",
    "        # genero le train features\n",
    "        train_features = extract_features(train_dataset, n, combination)\n",
    "        train_features = filter_features(train_features, 5)\n",
    "        \n",
    "        # genero X_train, y_train\n",
    "        vectorizer = DictVectorizer() # trasformazione in matrice sparsa\n",
    "        X_train = vectorizer.fit_transform(train_features)\n",
    "        scaler = MaxAbsScaler() # normalizzazione\n",
    "        X_train = scaler.fit_transform(X_train)\n",
    "        y_train = generate_y(train_files, 'irony_sarcasm')\n",
    "        \n",
    "        # traino LinearSVC\n",
    "        clf = LinearSVC(max_iter=1e4)\n",
    "        \n",
    "        # valuto con KFold su X_train, y_train\n",
    "        kfold_results = KFold_CV(5, clf, X_train, y_train)\n",
    "        avg_f1_macro = kfold_results['Avg F1-Macro Model'][0]\n",
    "        \n",
    "        \n",
    "        # salvo in results\n",
    "        key = f\"{n}-grammi di {', '.join(combination)}\"\n",
    "        results[key] = avg_f1_macro"
   ]
  },
  {
   "cell_type": "code",
   "execution_count": 97,
   "id": "271b90b3",
   "metadata": {},
   "outputs": [
    {
     "data": {
      "image/png": "[encoded data removed]",
      "text/plain": [
       "<Figure size 288x1152 with 1 Axes>"
      ]
     },
     "metadata": {},
     "output_type": "display_data"
    }
   ],
   "source": [
    "# visualizzo gli F1-Macro medi di ciascuna combinazione di n-grammi \n",
    "\n",
    "sorted_data = sorted(results.items(), key=lambda x: x[1], reverse=False)\n",
    "key, values = zip(*sorted_data)\n",
    "\n",
    "plt.figure(figsize=(4, 16))\n",
    "plt.barh(key, values)\n",
    "plt.xlabel('F1-Macro Medio', fontsize=16)\n",
    "plt.xticks(fontsize=14)\n",
    "plt.yticks(fontsize=14)\n",
    "plt.show()"
   ]
  },
  {
   "cell_type": "markdown",
   "id": "8838db2d",
   "metadata": {},
   "source": [
    "### Classificazione multi-classe di irony_sarcasm"
   ]
  },
  {
   "cell_type": "code",
   "execution_count": 98,
   "id": "4e04c098",
   "metadata": {},
   "outputs": [],
   "source": [
    "# ridefinisco extract_features per includere solo le features più importanti nel feature set\n",
    "\n",
    "def extract_features(dataset):\n",
    "    dataset_features = []\n",
    "    for document in dataset:\n",
    "        lemma_unigrams = dict()\n",
    "        char_unigrams = dict()\n",
    "        pos_trigrams = dict()\n",
    "        char_trigrams = dict()\n",
    "        for sentence in document:\n",
    "            extract_word_ngrams(lemma_unigrams, sentence, 'lemma', 1)\n",
    "            extract_char_ngrams(char_unigrams, sentence, 1)\n",
    "            extract_word_ngrams(pos_trigrams, sentence, 'pos', 3)\n",
    "            extract_char_ngrams(char_trigrams, sentence, 3)\n",
    "\n",
    "        num_words = count_post_words(document)\n",
    "        num_chars = count_post_chars(document)\n",
    "        normalize_ngrams(lemma_unigrams, num_words)\n",
    "        normalize_ngrams(char_unigrams, num_chars)\n",
    "        normalize_ngrams(pos_trigrams, num_chars)\n",
    "        normalize_ngrams(char_trigrams, num_words)\n",
    "        \n",
    "        user_features = dict()\n",
    "        for ngrams_dict in [lemma_unigrams, char_unigrams, pos_trigrams, char_trigrams]:\n",
    "            for ngram in ngrams_dict:\n",
    "                user_features[ngram] = ngrams_dict[ngram]\n",
    "\n",
    "        dataset_features.append(user_features)\n",
    "    return dataset_features"
   ]
  },
  {
   "cell_type": "code",
   "execution_count": 99,
   "id": "3047b6cd",
   "metadata": {},
   "outputs": [
    {
     "data": {
      "text/plain": [
       "43029"
      ]
     },
     "execution_count": 99,
     "metadata": {},
     "output_type": "execute_result"
    }
   ],
   "source": [
    "# estraggo le train features\n",
    "\n",
    "train_features = extract_features(train_dataset)\n",
    "get_num_features(train_features)"
   ]
  },
  {
   "cell_type": "code",
   "execution_count": 100,
   "id": "44ab37cb",
   "metadata": {},
   "outputs": [
    {
     "data": {
      "text/plain": [
       "7667"
      ]
     },
     "execution_count": 100,
     "metadata": {},
     "output_type": "execute_result"
    }
   ],
   "source": [
    "# filtro le features meno importanti\n",
    "\n",
    "train_features = filter_features(train_features, 5)\n",
    "get_num_features(train_features)"
   ]
  },
  {
   "cell_type": "code",
   "execution_count": 101,
   "id": "b2c66665",
   "metadata": {},
   "outputs": [],
   "source": [
    "# genero X_train, y_train\n",
    "\n",
    "vectorizer = DictVectorizer() # trasformazione in matrice sparsa\n",
    "X_train = vectorizer.fit_transform(train_features)\n",
    "\n",
    "scaler = MaxAbsScaler() # normalizzazione\n",
    "X_train = scaler.fit_transform(X_train)\n",
    "\n",
    "y_train = generate_y(train_files, 'irony_sarcasm')"
   ]
  },
  {
   "cell_type": "code",
   "execution_count": 102,
   "id": "fd9d97e3",
   "metadata": {},
   "outputs": [],
   "source": [
    "# genero X_test, y_test\n",
    "\n",
    "test_features = extract_features(test_dataset)\n",
    "X_test = vectorizer.transform(test_features)\n",
    "X_test = scaler.transform(X_test)\n",
    "y_test = generate_y(test_files, 'irony_sarcasm')"
   ]
  },
  {
   "cell_type": "code",
   "execution_count": 103,
   "id": "15174ad0",
   "metadata": {
    "scrolled": true
   },
   "outputs": [
    {
     "name": "stdout",
     "output_type": "stream",
     "text": [
      "(3977, 7667) (3977,)\n",
      "(872, 7667) (872,)\n"
     ]
    }
   ],
   "source": [
    "print(X_train.shape, y_train.shape)\n",
    "print(X_test.shape, y_test.shape)"
   ]
  },
  {
   "cell_type": "code",
   "execution_count": null,
   "id": "74b770a7",
   "metadata": {},
   "outputs": [],
   "source": [
    "# effettuo randomized search su X_train, y_train\n",
    "\n",
    "randomized_search_svm(X_train, y_train, scoring='f1_macro')"
   ]
  },
  {
   "cell_type": "code",
   "execution_count": 106,
   "id": "baf40bdb",
   "metadata": {},
   "outputs": [
    {
     "data": {
      "text/html": [
       "<style>#sk-container-id-4 {color: black;background-color: white;}#sk-container-id-4 pre{padding: 0;}#sk-container-id-4 div.sk-toggleable {background-color: white;}#sk-container-id-4 label.sk-toggleable__label {cursor: pointer;display: block;width: 100%;margin-bottom: 0;padding: 0.3em;box-sizing: border-box;text-align: center;}#sk-container-id-4 label.sk-toggleable__label-arrow:before {content: \"▸\";float: left;margin-right: 0.25em;color: #696969;}#sk-container-id-4 label.sk-toggleable__label-arrow:hover:before {color: black;}#sk-container-id-4 div.sk-estimator:hover label.sk-toggleable__label-arrow:before {color: black;}#sk-container-id-4 div.sk-toggleable__content {max-height: 0;max-width: 0;overflow: hidden;text-align: left;background-color: #f0f8ff;}#sk-container-id-4 div.sk-toggleable__content pre {margin: 0.2em;color: black;border-radius: 0.25em;background-color: #f0f8ff;}#sk-container-id-4 input.sk-toggleable__control:checked~div.sk-toggleable__content {max-height: 200px;max-width: 100%;overflow: auto;}#sk-container-id-4 input.sk-toggleable__control:checked~label.sk-toggleable__label-arrow:before {content: \"▾\";}#sk-container-id-4 div.sk-estimator input.sk-toggleable__control:checked~label.sk-toggleable__label {background-color: #d4ebff;}#sk-container-id-4 div.sk-label input.sk-toggleable__control:checked~label.sk-toggleable__label {background-color: #d4ebff;}#sk-container-id-4 input.sk-hidden--visually {border: 0;clip: rect(1px 1px 1px 1px);clip: rect(1px, 1px, 1px, 1px);height: 1px;margin: -1px;overflow: hidden;padding: 0;position: absolute;width: 1px;}#sk-container-id-4 div.sk-estimator {font-family: monospace;background-color: #f0f8ff;border: 1px dotted black;border-radius: 0.25em;box-sizing: border-box;margin-bottom: 0.5em;}#sk-container-id-4 div.sk-estimator:hover {background-color: #d4ebff;}#sk-container-id-4 div.sk-parallel-item::after {content: \"\";width: 100%;border-bottom: 1px solid gray;flex-grow: 1;}#sk-container-id-4 div.sk-label:hover label.sk-toggleable__label {background-color: #d4ebff;}#sk-container-id-4 div.sk-serial::before {content: \"\";position: absolute;border-left: 1px solid gray;box-sizing: border-box;top: 0;bottom: 0;left: 50%;z-index: 0;}#sk-container-id-4 div.sk-serial {display: flex;flex-direction: column;align-items: center;background-color: white;padding-right: 0.2em;padding-left: 0.2em;position: relative;}#sk-container-id-4 div.sk-item {position: relative;z-index: 1;}#sk-container-id-4 div.sk-parallel {display: flex;align-items: stretch;justify-content: center;background-color: white;position: relative;}#sk-container-id-4 div.sk-item::before, #sk-container-id-4 div.sk-parallel-item::before {content: \"\";position: absolute;border-left: 1px solid gray;box-sizing: border-box;top: 0;bottom: 0;left: 50%;z-index: -1;}#sk-container-id-4 div.sk-parallel-item {display: flex;flex-direction: column;z-index: 1;position: relative;background-color: white;}#sk-container-id-4 div.sk-parallel-item:first-child::after {align-self: flex-end;width: 50%;}#sk-container-id-4 div.sk-parallel-item:last-child::after {align-self: flex-start;width: 50%;}#sk-container-id-4 div.sk-parallel-item:only-child::after {width: 0;}#sk-container-id-4 div.sk-dashed-wrapped {border: 1px dashed gray;margin: 0 0.4em 0.5em 0.4em;box-sizing: border-box;padding-bottom: 0.4em;background-color: white;}#sk-container-id-4 div.sk-label label {font-family: monospace;font-weight: bold;display: inline-block;line-height: 1.2em;}#sk-container-id-4 div.sk-label-container {text-align: center;}#sk-container-id-4 div.sk-container {/* jupyter's `normalize.less` sets `[hidden] { display: none; }` but bootstrap.min.css set `[hidden] { display: none !important; }` so we also need the `!important` here to be able to override the default hidden behavior on the sphinx rendered scikit-learn.org. See: https://github.com/scikit-learn/scikit-learn/issues/21755 */display: inline-block !important;position: relative;}#sk-container-id-4 div.sk-text-repr-fallback {display: none;}</style><div id=\"sk-container-id-4\" class=\"sk-top-container\"><div class=\"sk-text-repr-fallback\"><pre>SVC(C=0.01, class_weight=&#x27;balanced&#x27;, gamma=10, kernel=&#x27;linear&#x27;,\n",
       "    max_iter=1000000.0)</pre><b>In a Jupyter environment, please rerun this cell to show the HTML representation or trust the notebook. <br />On GitHub, the HTML representation is unable to render, please try loading this page with nbviewer.org.</b></div><div class=\"sk-container\" hidden><div class=\"sk-item\"><div class=\"sk-estimator sk-toggleable\"><input class=\"sk-toggleable__control sk-hidden--visually\" id=\"sk-estimator-id-4\" type=\"checkbox\" checked><label for=\"sk-estimator-id-4\" class=\"sk-toggleable__label sk-toggleable__label-arrow\">SVC</label><div class=\"sk-toggleable__content\"><pre>SVC(C=0.01, class_weight=&#x27;balanced&#x27;, gamma=10, kernel=&#x27;linear&#x27;,\n",
       "    max_iter=1000000.0)</pre></div></div></div></div></div>"
      ],
      "text/plain": [
       "SVC(C=0.01, class_weight='balanced', gamma=10, kernel='linear',\n",
       "    max_iter=1000000.0)"
      ]
     },
     "execution_count": 106,
     "metadata": {},
     "output_type": "execute_result"
    }
   ],
   "source": [
    "# inizializzo e traino il best estimator\n",
    "\n",
    "clf = SVC(C=1e-2, class_weight='balanced', gamma=10, kernel='linear', max_iter=1e6)\n",
    "clf.fit(X_train, y_train)"
   ]
  },
  {
   "cell_type": "code",
   "execution_count": 107,
   "id": "479c5d52",
   "metadata": {},
   "outputs": [
    {
     "data": {
      "text/plain": [
       "{'Avg Accuracy Baseline': (0.491323915173351, 0.018663369136801927),\n",
       " 'Avg F1-Macro baseline': (0.21956676218045118, 0.0055787042809031274),\n",
       " 'Avg Accuracy Model': (0.5539385607281692, 0.008281066933213278),\n",
       " 'Avg F1-Macro Model': (0.5336889698354507, 0.0073610727223876096)}"
      ]
     },
     "execution_count": 107,
     "metadata": {},
     "output_type": "execute_result"
    }
   ],
   "source": [
    "# valuto il best estimator su train con 5-Fold CV\n",
    "\n",
    "KFold_CV(5, clf, X_train, y_train)"
   ]
  },
  {
   "cell_type": "code",
   "execution_count": 108,
   "id": "b47dcf71",
   "metadata": {},
   "outputs": [
    {
     "name": "stdout",
     "output_type": "stream",
     "text": [
      "              precision    recall  f1-score   support\n",
      "\n",
      "           0       0.78      0.52      0.63       437\n",
      "           1       0.34      0.47      0.40       219\n",
      "           2       0.38      0.48      0.42       216\n",
      "\n",
      "    accuracy                           0.50       872\n",
      "   macro avg       0.50      0.49      0.48       872\n",
      "weighted avg       0.57      0.50      0.52       872\n",
      "\n"
     ]
    }
   ],
   "source": [
    "# valuto il best estimator su hold-out test\n",
    "\n",
    "y_pred = clf.predict(X_test)\n",
    "print(classification_report(y_test, y_pred))"
   ]
  },
  {
   "cell_type": "code",
   "execution_count": 109,
   "id": "4d31f035",
   "metadata": {},
   "outputs": [
    {
     "data": {
      "image/png": "[encoded data removed]",
      "text/plain": [
       "<Figure size 432x288 with 2 Axes>"
      ]
     },
     "metadata": {},
     "output_type": "display_data"
    }
   ],
   "source": [
    "# visualizzo la matrice di confusione\n",
    "\n",
    "cm = confusion_matrix(y_test, y_pred)\n",
    "sns.heatmap(cm, annot=True, fmt=\"d\", cmap=\"Blues\")\n",
    "plt.show()"
   ]
  },
  {
   "cell_type": "markdown",
   "id": "eba8a80f",
   "metadata": {},
   "source": [
    "# Classificazione con Word Embeddings"
   ]
  },
  {
   "cell_type": "markdown",
   "id": "182eb4c0",
   "metadata": {},
   "source": [
    "### Data Preparation"
   ]
  },
  {
   "cell_type": "code",
   "execution_count": null,
   "id": "5d81c539",
   "metadata": {},
   "outputs": [],
   "source": [
    "# converto il file sql in un file txt\n",
    "\n",
    "con = sqlite3.connect(sql_path)\n",
    "cur = con.cursor()\n",
    "\n",
    "sql_path = f'itwac32_clitics.sqlite'\n",
    "txt_path = f'itwac32_clitics.txt'\n",
    "\n",
    "with open(txt_path, 'w+') as out_file:\n",
    "    for embedding in cur.execute(\"SELECT * FROM store\"):\n",
    "        str_embedding = [str(el) for el in embedding[:-1]]\n",
    "        out_file.write('\\t'.join(str_embedding)+'\\n')\n",
    "out_file.close()"
   ]
  },
  {
   "cell_type": "code",
   "execution_count": 110,
   "id": "be6e0f0e",
   "metadata": {},
   "outputs": [],
   "source": [
    "def load_word_embeddings(src_path):\n",
    "    \n",
    "    '''Prende in input il file txt con word embeddings e restituisce un dizionario\n",
    "    della forma: {parola : embedding}'''\n",
    "    \n",
    "    embeddings = dict()\n",
    "    for line in open(src_path, 'r'):\n",
    "        line = line.strip().split('\\t')\n",
    "        word = line[0]\n",
    "        embedding = line[1:]\n",
    "        embedding = [float(comp) for comp in embedding] \n",
    "        embeddings[word] = np.asarray(embedding) \n",
    "    return embeddings"
   ]
  },
  {
   "cell_type": "code",
   "execution_count": 111,
   "id": "b45978db",
   "metadata": {},
   "outputs": [],
   "source": [
    "# converto i WE\n",
    "\n",
    "we = load_word_embeddings(txt_path)"
   ]
  },
  {
   "cell_type": "code",
   "execution_count": 112,
   "id": "78fc8d2d",
   "metadata": {},
   "outputs": [],
   "source": [
    "# definisco una funzione per la gestione dei digits\n",
    "\n",
    "def get_digits(text):\n",
    "    try:\n",
    "        val = int(text)\n",
    "    except:\n",
    "        text = re.sub('\\d', '@Dg', text)\n",
    "        return text\n",
    "    if val >= 0 and val < 2100:\n",
    "        return str(val)\n",
    "    else:\n",
    "        return \"DIGLEN_\" + str(len(str(val)))"
   ]
  },
  {
   "cell_type": "code",
   "execution_count": 113,
   "id": "905046db",
   "metadata": {},
   "outputs": [],
   "source": [
    "# definisco una funzione per la normalizzazione delle parole\n",
    "\n",
    "def normalize_text(word):\n",
    "    if \"http\" in word or (\".\" in word and \"/\" in word):\n",
    "      word = str(\"___URL___\")\n",
    "      return word\n",
    "    if len(word) > 26:\n",
    "      return \"__LONG-LONG__\"\n",
    "    new_word = get_digits(word)\n",
    "    if new_word != word:\n",
    "      word = new_word\n",
    "    if word[0].isupper():\n",
    "      word = word.capitalize()\n",
    "    else:\n",
    "      word = word.lower()\n",
    "    return word"
   ]
  },
  {
   "cell_type": "code",
   "execution_count": 114,
   "id": "3e2029f4",
   "metadata": {},
   "outputs": [],
   "source": [
    "def get_tokens_from_file(src_path):\n",
    "    \n",
    "    '''Prende in input il path di un testo txt e restituisce un dizionario con forma e pos.'''\n",
    "    \n",
    "    user_tokens = []\n",
    "    lines_to_skip = 0\n",
    "    take_pos = False\n",
    "    \n",
    "    for line in open(src_path, 'r'):\n",
    "        if line[0].isdigit():\n",
    "            splitted_line = line.strip().split('\\t')\n",
    "            if '-' in splitted_line[0]:\n",
    "                skip_ids = splitted_line[0].split('-')\n",
    "                lines_to_skip = int(skip_ids[1]) - int(skip_ids[0]) + 1 # l'indice ci indica quali righe saltare\n",
    "                take_pos = True # indica che bisogna prendere la pos della parola che segue\n",
    "                word = normalize_text(splitted_line[1])\n",
    "                pos = splitted_line[3]\n",
    "                token = {\n",
    "                    'word': word,\n",
    "                    'pos': pos\n",
    "                }\n",
    "                user_tokens.append(token)\n",
    "            else:\n",
    "                if lines_to_skip == 0:\n",
    "                    \n",
    "                    word = normalize_text(splitted_line[1])\n",
    "                    pos = splitted_line[3]\n",
    "                    token = {\n",
    "                        'word': word,\n",
    "                        'pos': pos\n",
    "                    }\n",
    "                    user_tokens.append(token)\n",
    "                if take_pos:\n",
    "                    pos = splitted_line[3]\n",
    "                    user_tokens[-1]['pos'] = pos\n",
    "                    take_pos = False\n",
    "                lines_to_skip = max(0, lines_to_skip-1)\n",
    "    return user_tokens"
   ]
  },
  {
   "cell_type": "code",
   "execution_count": 115,
   "id": "94d07e48",
   "metadata": {},
   "outputs": [],
   "source": [
    "# inizializzo il train_dataset\n",
    "\n",
    "train_dataset = []\n",
    "\n",
    "for user_path in train_files:\n",
    "    user_sentences = get_tokens_from_file(user_path)\n",
    "    train_dataset.append(user_sentences)"
   ]
  },
  {
   "cell_type": "code",
   "execution_count": 116,
   "id": "dffb11ff",
   "metadata": {},
   "outputs": [],
   "source": [
    "# inizializzo il test_dataset\n",
    "\n",
    "test_dataset = []\n",
    "\n",
    "for user_path in test_files:\n",
    "    user_sentences = get_tokens_from_file(user_path)\n",
    "    test_dataset.append(user_sentences)"
   ]
  },
  {
   "cell_type": "code",
   "execution_count": 117,
   "id": "c6b88c1a",
   "metadata": {},
   "outputs": [
    {
     "name": "stdout",
     "output_type": "stream",
     "text": [
      "3977\n",
      "872\n"
     ]
    }
   ],
   "source": [
    "print(len(train_dataset))\n",
    "print(len(test_dataset))"
   ]
  },
  {
   "cell_type": "code",
   "execution_count": 118,
   "id": "aef0f23f",
   "metadata": {},
   "outputs": [],
   "source": [
    "def compute_embeddings_mean(user_embeddings):\n",
    "    \n",
    "    '''Calcola la media di un set di embeddings in input'''\n",
    "    \n",
    "    sum_array = np.sum(user_embeddings, axis=0)\n",
    "    mean_array = np.divide(sum_array, len(user_embeddings))\n",
    "    return mean_array"
   ]
  },
  {
   "cell_type": "code",
   "execution_count": 119,
   "id": "5b2d8012",
   "metadata": {},
   "outputs": [],
   "source": [
    "# definisco una funzione che calcola la media di tutti gli embeddings\n",
    "\n",
    "def compute_all_embeddings_mean(user_tokens, embeddings, embeddings_dim):\n",
    "    \n",
    "    '''Calcola la media degli embeddings di un user'''\n",
    "    \n",
    "    user_embeddings = []\n",
    "    for token in user_tokens:\n",
    "        word = token['word']\n",
    "        if word in embeddings:\n",
    "            user_embeddings.append(embeddings[word])\n",
    "    \n",
    "    if len(user_embeddings) == 0:\n",
    "        user_embeddings = [np.zeros(embeddings_dim)]\n",
    "    \n",
    "    user_embeddings = compute_embeddings_mean(user_embeddings)\n",
    "    return user_embeddings"
   ]
  },
  {
   "cell_type": "code",
   "execution_count": 120,
   "id": "971ba37a",
   "metadata": {},
   "outputs": [],
   "source": [
    "def compute_filtered_embeddings_mean(user_tokens, embeddings, embeddings_dim, pos_filter):\n",
    "    \n",
    "    '''Calcola la media degli embeddings di un user ma solo delle parole la cui pos è in pos_filter'''\n",
    "    \n",
    "    user_embeddings = []\n",
    "    \n",
    "    for token in user_tokens:\n",
    "        word = token['word']\n",
    "        pos = token['pos']\n",
    "        if word in embeddings and pos in pos_filter:\n",
    "            user_embeddings.append(embeddings[word])\n",
    "    \n",
    "    if len(user_embeddings) == 0:\n",
    "        user_embeddings = [np.zeros(embeddings_dim)]\n",
    "    \n",
    "    user_embeddings = compute_embeddings_mean(user_embeddings)\n",
    "    return user_embeddings"
   ]
  },
  {
   "cell_type": "code",
   "execution_count": 121,
   "id": "a39b6788",
   "metadata": {},
   "outputs": [],
   "source": [
    "def compute_filtered_embeddings_sep_means(user_tokens, embeddings, embeddings_dim, pos_filter):\n",
    "    \n",
    "    '''Calcola la concatenazione delle medie degli embeddings di un user per ciascun pos in pos_filter'''\n",
    "    \n",
    "    user_pos_embeddings_means = list()\n",
    "    unique_pos = np.unique([token['pos'] for token in user_tokens])\n",
    "\n",
    "    for pos in pos_filter:\n",
    "        pos_embeddings = list()\n",
    "        for token in user_tokens:\n",
    "            if token['word'] in embeddings and token['pos'] == pos:\n",
    "                    pos_embeddings.append(embeddings[token['word']])\n",
    "        if len(pos_embeddings) == 0:\n",
    "            pos_embeddings.append(np.zeros(embeddings_dim))\n",
    "            \n",
    "        pos_embeddings_mean = compute_embeddings_mean(pos_embeddings)\n",
    "        user_pos_embeddings_means.append(pos_embeddings_mean)\n",
    "    \n",
    "    user_pos_embeddings_concat = list()\n",
    "    for mean in user_pos_embeddings_means:\n",
    "        user_pos_embeddings_concat.extend(mean)\n",
    "        \n",
    "    return np.array(user_pos_embeddings_concat)"
   ]
  },
  {
   "cell_type": "code",
   "execution_count": 122,
   "id": "251797bb",
   "metadata": {},
   "outputs": [],
   "source": [
    "# definisco una funzione per l'estrazione delle features\n",
    "\n",
    "def extract_features(dataset, embeddings, embeddings_dim, aggregation='mean', pos_filter=None):\n",
    "    \n",
    "    '''Estrae le feature dal dataset a seconda della strategia di aggregation prescelta (mean, filtered\n",
    "    mean, concatenated_means)'''\n",
    "    \n",
    "    dataset_features = list()\n",
    "    for user_tokens in dataset:\n",
    "        if aggregation == 'mean':\n",
    "            user_embeddings = compute_all_embeddings_mean(user_tokens, embeddings, embeddings_dim)\n",
    "        elif aggregation == 'filtered_mean':\n",
    "            user_embeddings = compute_filtered_embeddings_mean(user_tokens, embeddings, embeddings_dim, pos_filter)\n",
    "        elif aggregation == 'concatenated_means':\n",
    "            user_embeddings = compute_filtered_embeddings_sep_means(user_tokens, embeddings, embeddings_dim, pos_filter)\n",
    "        dataset_features.append(user_embeddings)\n",
    "    return dataset_features"
   ]
  },
  {
   "cell_type": "markdown",
   "id": "fcad423f",
   "metadata": {},
   "source": [
    "### Valutazione di diverse configurazioni di WE con K-Fold CV (TR) per irony"
   ]
  },
  {
   "cell_type": "code",
   "execution_count": 123,
   "id": "5322aed2",
   "metadata": {},
   "outputs": [],
   "source": [
    "# inizializzo un dizionario che registra i risultati della K-Fold CV su TR\n",
    "\n",
    "results = dict()"
   ]
  },
  {
   "cell_type": "code",
   "execution_count": 124,
   "id": "14275512",
   "metadata": {},
   "outputs": [],
   "source": [
    "# calcolo la F1-Macro su K-Fold per la media di tutti i WE e aggiungo a results\n",
    "\n",
    "train_features = extract_features(train_dataset, we, 32, aggregation='mean')\n",
    "\n",
    "scaler = MinMaxScaler()\n",
    "X_train = scaler.fit_transform(train_features)\n",
    "y_train = generate_y(train_files, 'irony')\n",
    "\n",
    "clf = LinearSVC(dual=False, max_iter=1e4)\n",
    "kfold_results = KFold_CV(5, clf, X_train, y_train)\n",
    "avg_f1_macro = kfold_results['Avg F1-Macro Model'][0]\n",
    "results['Tutti i WE (Media)'] = avg_f1_macro"
   ]
  },
  {
   "cell_type": "code",
   "execution_count": 125,
   "id": "68150ef9",
   "metadata": {},
   "outputs": [],
   "source": [
    "# inizializzo una lista con le upos\n",
    "\n",
    "pos_unique = list()\n",
    "for user in train_dataset:\n",
    "    for el in user:\n",
    "        pos = el['pos']\n",
    "        if pos not in pos_unique:\n",
    "            pos_unique.append(pos)"
   ]
  },
  {
   "cell_type": "code",
   "execution_count": 126,
   "id": "99c5f7db",
   "metadata": {},
   "outputs": [],
   "source": [
    "# inizializzo i candidati\n",
    "\n",
    "lexical_tokens = ['NOUN', 'VERB', 'ADJ', 'ADV']\n",
    "propn = ['PROPN']\n",
    "punct = ['PUNCT']\n",
    "sym = ['SYM']\n",
    "non_lexical_tokens = [pos for pos in pos_unique if pos not in lexical_tokens and pos not in propn and pos not in punct]\n",
    "candidates = dict()\n",
    "\n",
    "candidates['L'] = lexical_tokens\n",
    "candidates['L + PUNCT'] = lexical_tokens + punct\n",
    "candidates['L + SYM'] = lexical_tokens + sym\n",
    "candidates['L + PROPN'] = lexical_tokens + propn\n",
    "candidates['L + PUNCT + PROPN'] = lexical_tokens + punct + propn\n",
    "candidates['L + SYM + PROPN'] = lexical_tokens + sym + propn\n",
    "candidates['L + SYM + PUNCT + PROPN'] = lexical_tokens + sym + propn + punct\n",
    "candidates['NL'] = non_lexical_tokens"
   ]
  },
  {
   "cell_type": "code",
   "execution_count": 127,
   "id": "0e811796",
   "metadata": {},
   "outputs": [],
   "source": [
    "# per ciascun candidato, uso la media come funzione di aggregazione, calcolo la F1-Macro su K-Fold e aggiungo a results\n",
    "\n",
    "for candidate in candidates:\n",
    "    \n",
    "    train_features = extract_features(train_dataset, we, 32, aggregation='filtered_mean', pos_filter=candidates[candidate])\n",
    "    \n",
    "    scaler = MinMaxScaler()\n",
    "    X_train = scaler.fit_transform(train_features)\n",
    "    y_train = generate_y(train_files, 'irony')\n",
    "    \n",
    "    clf = LinearSVC(dual=False, max_iter=1e4)\n",
    "    kfold_results = KFold_CV(5, clf, X_train, y_train)\n",
    "    avg_f1_macro = kfold_results['Avg F1-Macro Model'][0]\n",
    "    \n",
    "    results[f'{candidate} (Media)'] = avg_f1_macro"
   ]
  },
  {
   "cell_type": "code",
   "execution_count": 128,
   "id": "a957f2b3",
   "metadata": {},
   "outputs": [],
   "source": [
    "# per ciascun candidato, uso la concatenazione di medie come funzione di aggregazione, calcolo la F1-Macro su K-Fold e aggiungo a results \n",
    "\n",
    "for candidate in candidates:\n",
    "    \n",
    "    train_features = extract_features(train_dataset, we, 32, aggregation='concatenated_means', pos_filter=candidates[candidate])\n",
    "    \n",
    "    scaler = MinMaxScaler()\n",
    "    X_train = scaler.fit_transform(train_features)\n",
    "    y_train = generate_y(train_files, 'irony')\n",
    "    \n",
    "    clf = LinearSVC(dual=False, max_iter=1e4)\n",
    "    kfold_results = KFold_CV(5, clf, X_train, y_train)\n",
    "    avg_f1_macro = kfold_results['Avg F1-Macro Model'][0]\n",
    "    \n",
    "    results[f'{candidate} (Concatenazione)'] = avg_f1_macro"
   ]
  },
  {
   "cell_type": "code",
   "execution_count": 131,
   "id": "9464f0f9",
   "metadata": {},
   "outputs": [
    {
     "data": {
      "image/png": "[encoded data removed]",
      "text/plain": [
       "<Figure size 432x720 with 1 Axes>"
      ]
     },
     "metadata": {},
     "output_type": "display_data"
    }
   ],
   "source": [
    "# visualizzo gli f1-macro medi di ciascuna aggregazione di WE \n",
    "\n",
    "sorted_data = sorted(results.items(), key=lambda x: x[1], reverse=False)\n",
    "key, values = zip(*sorted_data)\n",
    "\n",
    "plt.figure(figsize=(6, 10))\n",
    "ax = plt.barh(key, values)\n",
    "ax[16].set_color('red')\n",
    "\n",
    "plt.xlabel('F1-Macro Medio', fontsize=22)\n",
    "plt.xticks(fontsize=20)\n",
    "plt.yticks(fontsize=16)\n",
    "plt.xticks(rotation=0)\n",
    "plt.show()"
   ]
  },
  {
   "cell_type": "markdown",
   "id": "ec70ee5e",
   "metadata": {},
   "source": [
    "### Classificazione binaria di irony"
   ]
  },
  {
   "cell_type": "code",
   "execution_count": 132,
   "id": "0791981d",
   "metadata": {},
   "outputs": [],
   "source": [
    "# estraggo le train features e le test features\n",
    "\n",
    "train_features = extract_features(train_dataset, we, 32, aggregation='mean')\n",
    "test_features = extract_features(test_dataset, we, 32, aggregation='mean')"
   ]
  },
  {
   "cell_type": "code",
   "execution_count": 133,
   "id": "e0548ac8",
   "metadata": {},
   "outputs": [],
   "source": [
    "# inizializzo X_train (con normalizzazione) e y_train\n",
    "\n",
    "scaler = MinMaxScaler()\n",
    "X_train = scaler.fit_transform(train_features)\n",
    "y_train = generate_y(train_files, 'irony')"
   ]
  },
  {
   "cell_type": "code",
   "execution_count": 134,
   "id": "87084c96",
   "metadata": {},
   "outputs": [],
   "source": [
    "# inizializzo X_test (con normalizzazione) e y_test\n",
    "\n",
    "scaler = MinMaxScaler()\n",
    "X_test = scaler.fit_transform(test_features)\n",
    "y_test = generate_y(test_files, 'irony')"
   ]
  },
  {
   "cell_type": "code",
   "execution_count": 135,
   "id": "3569ba59",
   "metadata": {},
   "outputs": [
    {
     "name": "stdout",
     "output_type": "stream",
     "text": [
      "(3977, 32) (3977,)\n",
      "(872, 32) (872,)\n"
     ]
    }
   ],
   "source": [
    "print(X_train.shape, y_train.shape)\n",
    "print(X_test.shape, y_test.shape)"
   ]
  },
  {
   "cell_type": "code",
   "execution_count": 148,
   "id": "a8296a6a",
   "metadata": {},
   "outputs": [
    {
     "name": "stdout",
     "output_type": "stream",
     "text": [
      "Best score: 0.6944908316495443, Best estimator: SVC(class_weight='balanced', gamma=1.0, max_iter=1000000.0)\n"
     ]
    }
   ],
   "source": [
    "# effettuo randomized search su X_train, y_train\n",
    "\n",
    "randomized_search_svm(X_train, y_train)"
   ]
  },
  {
   "cell_type": "code",
   "execution_count": 150,
   "id": "66b49d48",
   "metadata": {},
   "outputs": [
    {
     "data": {
      "text/html": [
       "<style>#sk-container-id-10 {color: black;background-color: white;}#sk-container-id-10 pre{padding: 0;}#sk-container-id-10 div.sk-toggleable {background-color: white;}#sk-container-id-10 label.sk-toggleable__label {cursor: pointer;display: block;width: 100%;margin-bottom: 0;padding: 0.3em;box-sizing: border-box;text-align: center;}#sk-container-id-10 label.sk-toggleable__label-arrow:before {content: \"▸\";float: left;margin-right: 0.25em;color: #696969;}#sk-container-id-10 label.sk-toggleable__label-arrow:hover:before {color: black;}#sk-container-id-10 div.sk-estimator:hover label.sk-toggleable__label-arrow:before {color: black;}#sk-container-id-10 div.sk-toggleable__content {max-height: 0;max-width: 0;overflow: hidden;text-align: left;background-color: #f0f8ff;}#sk-container-id-10 div.sk-toggleable__content pre {margin: 0.2em;color: black;border-radius: 0.25em;background-color: #f0f8ff;}#sk-container-id-10 input.sk-toggleable__control:checked~div.sk-toggleable__content {max-height: 200px;max-width: 100%;overflow: auto;}#sk-container-id-10 input.sk-toggleable__control:checked~label.sk-toggleable__label-arrow:before {content: \"▾\";}#sk-container-id-10 div.sk-estimator input.sk-toggleable__control:checked~label.sk-toggleable__label {background-color: #d4ebff;}#sk-container-id-10 div.sk-label input.sk-toggleable__control:checked~label.sk-toggleable__label {background-color: #d4ebff;}#sk-container-id-10 input.sk-hidden--visually {border: 0;clip: rect(1px 1px 1px 1px);clip: rect(1px, 1px, 1px, 1px);height: 1px;margin: -1px;overflow: hidden;padding: 0;position: absolute;width: 1px;}#sk-container-id-10 div.sk-estimator {font-family: monospace;background-color: #f0f8ff;border: 1px dotted black;border-radius: 0.25em;box-sizing: border-box;margin-bottom: 0.5em;}#sk-container-id-10 div.sk-estimator:hover {background-color: #d4ebff;}#sk-container-id-10 div.sk-parallel-item::after {content: \"\";width: 100%;border-bottom: 1px solid gray;flex-grow: 1;}#sk-container-id-10 div.sk-label:hover label.sk-toggleable__label {background-color: #d4ebff;}#sk-container-id-10 div.sk-serial::before {content: \"\";position: absolute;border-left: 1px solid gray;box-sizing: border-box;top: 0;bottom: 0;left: 50%;z-index: 0;}#sk-container-id-10 div.sk-serial {display: flex;flex-direction: column;align-items: center;background-color: white;padding-right: 0.2em;padding-left: 0.2em;position: relative;}#sk-container-id-10 div.sk-item {position: relative;z-index: 1;}#sk-container-id-10 div.sk-parallel {display: flex;align-items: stretch;justify-content: center;background-color: white;position: relative;}#sk-container-id-10 div.sk-item::before, #sk-container-id-10 div.sk-parallel-item::before {content: \"\";position: absolute;border-left: 1px solid gray;box-sizing: border-box;top: 0;bottom: 0;left: 50%;z-index: -1;}#sk-container-id-10 div.sk-parallel-item {display: flex;flex-direction: column;z-index: 1;position: relative;background-color: white;}#sk-container-id-10 div.sk-parallel-item:first-child::after {align-self: flex-end;width: 50%;}#sk-container-id-10 div.sk-parallel-item:last-child::after {align-self: flex-start;width: 50%;}#sk-container-id-10 div.sk-parallel-item:only-child::after {width: 0;}#sk-container-id-10 div.sk-dashed-wrapped {border: 1px dashed gray;margin: 0 0.4em 0.5em 0.4em;box-sizing: border-box;padding-bottom: 0.4em;background-color: white;}#sk-container-id-10 div.sk-label label {font-family: monospace;font-weight: bold;display: inline-block;line-height: 1.2em;}#sk-container-id-10 div.sk-label-container {text-align: center;}#sk-container-id-10 div.sk-container {/* jupyter's `normalize.less` sets `[hidden] { display: none; }` but bootstrap.min.css set `[hidden] { display: none !important; }` so we also need the `!important` here to be able to override the default hidden behavior on the sphinx rendered scikit-learn.org. See: https://github.com/scikit-learn/scikit-learn/issues/21755 */display: inline-block !important;position: relative;}#sk-container-id-10 div.sk-text-repr-fallback {display: none;}</style><div id=\"sk-container-id-10\" class=\"sk-top-container\"><div class=\"sk-text-repr-fallback\"><pre>SVC(C=1, class_weight=&#x27;balanced&#x27;, gamma=1, max_iter=1000000.0)</pre><b>In a Jupyter environment, please rerun this cell to show the HTML representation or trust the notebook. <br />On GitHub, the HTML representation is unable to render, please try loading this page with nbviewer.org.</b></div><div class=\"sk-container\" hidden><div class=\"sk-item\"><div class=\"sk-estimator sk-toggleable\"><input class=\"sk-toggleable__control sk-hidden--visually\" id=\"sk-estimator-id-10\" type=\"checkbox\" checked><label for=\"sk-estimator-id-10\" class=\"sk-toggleable__label sk-toggleable__label-arrow\">SVC</label><div class=\"sk-toggleable__content\"><pre>SVC(C=1, class_weight=&#x27;balanced&#x27;, gamma=1, max_iter=1000000.0)</pre></div></div></div></div></div>"
      ],
      "text/plain": [
       "SVC(C=1, class_weight='balanced', gamma=1, max_iter=1000000.0)"
      ]
     },
     "execution_count": 150,
     "metadata": {},
     "output_type": "execute_result"
    }
   ],
   "source": [
    "# inizializzo e traino il best estimator\n",
    "\n",
    "clf = SVC(C=1, gamma=1, kernel='rbf', class_weight='balanced', max_iter=1e6)\n",
    "clf.fit(X_train, y_train)"
   ]
  },
  {
   "cell_type": "code",
   "execution_count": 152,
   "id": "ad9f7763",
   "metadata": {},
   "outputs": [
    {
     "data": {
      "text/plain": [
       "{'Avg Accuracy Baseline': (0.5086760848266489, 0.018663369136801927),\n",
       " 'Avg F1-Macro baseline': (0.3370654255475562, 0.008227033324035762),\n",
       " 'Avg Accuracy Model': (0.698011440852059, 0.009148232441752282),\n",
       " 'Avg F1-Macro Model': (0.6959150043769399, 0.00906978943894964)}"
      ]
     },
     "execution_count": 152,
     "metadata": {},
     "output_type": "execute_result"
    }
   ],
   "source": [
    "# valuto il best estimator su train con 5-Fold CV\n",
    "\n",
    "KFold_CV(5, clf, X_train, y_train)"
   ]
  },
  {
   "cell_type": "code",
   "execution_count": 151,
   "id": "17df5cdc",
   "metadata": {},
   "outputs": [
    {
     "name": "stdout",
     "output_type": "stream",
     "text": [
      "              precision    recall  f1-score   support\n",
      "\n",
      "           0       0.60      0.76      0.67       437\n",
      "           1       0.67      0.48      0.56       435\n",
      "\n",
      "    accuracy                           0.62       872\n",
      "   macro avg       0.63      0.62      0.61       872\n",
      "weighted avg       0.63      0.62      0.61       872\n",
      "\n"
     ]
    }
   ],
   "source": [
    "# valuto il best estimator su hold-out test\n",
    "\n",
    "y_pred = clf.predict(X_test)\n",
    "print(classification_report(y_test, y_pred))"
   ]
  },
  {
   "cell_type": "code",
   "execution_count": 153,
   "id": "6a9396d0",
   "metadata": {},
   "outputs": [
    {
     "data": {
      "image/png": "[encoded data removed]",
      "text/plain": [
       "<Figure size 432x288 with 2 Axes>"
      ]
     },
     "metadata": {},
     "output_type": "display_data"
    }
   ],
   "source": [
    "# visualizzo la matrice di confusione\n",
    "\n",
    "cm = confusion_matrix(y_test, y_pred)\n",
    "sns.heatmap(cm, annot=True, fmt=\"d\", cmap=\"Blues\")\n",
    "plt.show()"
   ]
  },
  {
   "cell_type": "markdown",
   "id": "f7daf395",
   "metadata": {},
   "source": [
    "### Valutazione di diverse configurazioni di WE con K-Fold CV (TR) per irony_sarcasm"
   ]
  },
  {
   "cell_type": "code",
   "execution_count": 154,
   "id": "d0a7d69d",
   "metadata": {},
   "outputs": [],
   "source": [
    "# inizializzo un dizionario che registra i risultati della K-Fold CV su TR\n",
    "\n",
    "results = dict()"
   ]
  },
  {
   "cell_type": "code",
   "execution_count": 155,
   "id": "028fb2c0",
   "metadata": {},
   "outputs": [],
   "source": [
    "# calcolo la F1-Macro su K-Fold per la media di tutti i WE e di tutti i WE e aggiungo a results\n",
    "\n",
    "train_features = extract_features(train_dataset, we, 32, aggregation='mean')\n",
    "\n",
    "scaler = MinMaxScaler()\n",
    "X_train = scaler.fit_transform(train_features)\n",
    "y_train = generate_y(train_files, 'irony_sarcasm')\n",
    "\n",
    "clf = LinearSVC(dual=False, max_iter=1e4)\n",
    "kfold_results = KFold_CV(5, clf, X_train, y_train)\n",
    "avg_f1_macro = kfold_results['Avg F1-Macro Model'][0]\n",
    "results['Tutti i WE (Media)'] = avg_f1_macro"
   ]
  },
  {
   "cell_type": "code",
   "execution_count": 156,
   "id": "7464c715",
   "metadata": {},
   "outputs": [],
   "source": [
    "# per ciascun candidato, uso la media come funzione di aggregazione, calcolo la F1-Macro su K-Fold e aggiungo a results\n",
    "\n",
    "for candidate in candidates:\n",
    "    \n",
    "    train_features = extract_features(train_dataset, we, 32, aggregation='filtered_mean', pos_filter=candidates[candidate])\n",
    "    \n",
    "    scaler = MinMaxScaler()\n",
    "    X_train = scaler.fit_transform(train_features)\n",
    "    y_train = generate_y(train_files, 'irony_sarcasm')\n",
    "    \n",
    "    clf = LinearSVC(dual=False, max_iter=1e4)\n",
    "    kfold_results = KFold_CV(5, clf, X_train, y_train)\n",
    "    avg_f1_macro = kfold_results['Avg F1-Macro Model'][0]\n",
    "    \n",
    "    results[f'{candidate} (Media)'] = avg_f1_macro"
   ]
  },
  {
   "cell_type": "code",
   "execution_count": 157,
   "id": "29d29ed1",
   "metadata": {},
   "outputs": [],
   "source": [
    "# per ciascun candidato, uso la concatenazione di medie come funzione di aggregazione, calcolo la F1-Macro su K-Fold e aggiungo a results \n",
    "\n",
    "for candidate in candidates:\n",
    "    \n",
    "    train_features = extract_features(train_dataset, we, 32, aggregation='concatenated_means', pos_filter=candidates[candidate])\n",
    "    \n",
    "    scaler = MinMaxScaler()\n",
    "    X_train = scaler.fit_transform(train_features)\n",
    "    y_train = generate_y(train_files, 'irony_sarcasm')\n",
    "    \n",
    "    clf = LinearSVC(dual=False, max_iter=1e4)\n",
    "    kfold_results = KFold_CV(5, clf, X_train, y_train)\n",
    "    avg_f1_macro = kfold_results['Avg F1-Macro Model'][0]\n",
    "    \n",
    "    results[f'{candidate} (Concatenazione)'] = avg_f1_macro"
   ]
  },
  {
   "cell_type": "code",
   "execution_count": 160,
   "id": "854ba1b4",
   "metadata": {},
   "outputs": [
    {
     "data": {
      "image/png": "[encoded data removed]",
      "text/plain": [
       "<Figure size 432x720 with 1 Axes>"
      ]
     },
     "metadata": {},
     "output_type": "display_data"
    }
   ],
   "source": [
    "# visualizzo gli f1-macro medi di ciascuna aggregazione di WE \n",
    "\n",
    "sorted_data = sorted(results.items(), key=lambda x: x[1], reverse=False)\n",
    "key, values = zip(*sorted_data)\n",
    "\n",
    "plt.figure(figsize=(6, 10))\n",
    "ax = plt.barh(key, values)\n",
    "ax[11].set_color('red')\n",
    "\n",
    "plt.xlabel('F1-Macro Medio', fontsize=22)\n",
    "plt.xticks(fontsize=20)\n",
    "plt.yticks(fontsize=16)\n",
    "plt.xticks(rotation=0)\n",
    "plt.show()"
   ]
  },
  {
   "cell_type": "markdown",
   "id": "d3145538",
   "metadata": {},
   "source": [
    "### Classificazione multi-classe di irony_sarcasm"
   ]
  },
  {
   "cell_type": "code",
   "execution_count": 161,
   "id": "53fed736",
   "metadata": {},
   "outputs": [],
   "source": [
    "# estraggo le train features e le test features\n",
    "\n",
    "pos_filter = ['PROPN', 'NOUN', 'VERB', 'ADJ', 'ADV', 'PUNCT', 'SYM']\n",
    "train_features = extract_features(train_dataset, we, 32, aggregation='concatenated_means', pos_filter=pos_filter)\n",
    "test_features = extract_features(test_dataset, we, 32, aggregation='concatenated_means', pos_filter=pos_filter)"
   ]
  },
  {
   "cell_type": "code",
   "execution_count": 162,
   "id": "eb3a245d",
   "metadata": {},
   "outputs": [],
   "source": [
    "# inizializzo X_train (con normalizzazione) e y_train\n",
    "\n",
    "scaler = MinMaxScaler()\n",
    "X_train = scaler.fit_transform(train_features)\n",
    "y_train = generate_y(train_files, 'irony_sarcasm')"
   ]
  },
  {
   "cell_type": "code",
   "execution_count": 163,
   "id": "f0519de5",
   "metadata": {},
   "outputs": [],
   "source": [
    "# inizializzo X_test (con normalizzazione) e y_test\n",
    "\n",
    "scaler = MinMaxScaler()\n",
    "X_test = scaler.fit_transform(test_features)\n",
    "y_test = generate_y(test_files, 'irony_sarcasm')"
   ]
  },
  {
   "cell_type": "code",
   "execution_count": 164,
   "id": "f7e059b9",
   "metadata": {},
   "outputs": [
    {
     "name": "stdout",
     "output_type": "stream",
     "text": [
      "(3977, 224) (3977,)\n",
      "(872, 224) (872,)\n"
     ]
    }
   ],
   "source": [
    "print(X_train.shape, y_train.shape)\n",
    "print(X_test.shape, y_test.shape)"
   ]
  },
  {
   "cell_type": "code",
   "execution_count": 165,
   "id": "377b9fee",
   "metadata": {},
   "outputs": [
    {
     "name": "stdout",
     "output_type": "stream",
     "text": [
      "Best score: 0.4940180445565654, Best estimator: SVC(C=10.0, class_weight='balanced', gamma=0.01, kernel='poly',\n",
      "    max_iter=1000000.0)\n"
     ]
    }
   ],
   "source": [
    "# effettuo randomized search su X_train, y_train\n",
    "\n",
    "randomized_search_svm(X_train, y_train, scoring='f1_macro')"
   ]
  },
  {
   "cell_type": "code",
   "execution_count": 166,
   "id": "4d13000a",
   "metadata": {},
   "outputs": [
    {
     "data": {
      "text/html": [
       "<style>#sk-container-id-11 {color: black;background-color: white;}#sk-container-id-11 pre{padding: 0;}#sk-container-id-11 div.sk-toggleable {background-color: white;}#sk-container-id-11 label.sk-toggleable__label {cursor: pointer;display: block;width: 100%;margin-bottom: 0;padding: 0.3em;box-sizing: border-box;text-align: center;}#sk-container-id-11 label.sk-toggleable__label-arrow:before {content: \"▸\";float: left;margin-right: 0.25em;color: #696969;}#sk-container-id-11 label.sk-toggleable__label-arrow:hover:before {color: black;}#sk-container-id-11 div.sk-estimator:hover label.sk-toggleable__label-arrow:before {color: black;}#sk-container-id-11 div.sk-toggleable__content {max-height: 0;max-width: 0;overflow: hidden;text-align: left;background-color: #f0f8ff;}#sk-container-id-11 div.sk-toggleable__content pre {margin: 0.2em;color: black;border-radius: 0.25em;background-color: #f0f8ff;}#sk-container-id-11 input.sk-toggleable__control:checked~div.sk-toggleable__content {max-height: 200px;max-width: 100%;overflow: auto;}#sk-container-id-11 input.sk-toggleable__control:checked~label.sk-toggleable__label-arrow:before {content: \"▾\";}#sk-container-id-11 div.sk-estimator input.sk-toggleable__control:checked~label.sk-toggleable__label {background-color: #d4ebff;}#sk-container-id-11 div.sk-label input.sk-toggleable__control:checked~label.sk-toggleable__label {background-color: #d4ebff;}#sk-container-id-11 input.sk-hidden--visually {border: 0;clip: rect(1px 1px 1px 1px);clip: rect(1px, 1px, 1px, 1px);height: 1px;margin: -1px;overflow: hidden;padding: 0;position: absolute;width: 1px;}#sk-container-id-11 div.sk-estimator {font-family: monospace;background-color: #f0f8ff;border: 1px dotted black;border-radius: 0.25em;box-sizing: border-box;margin-bottom: 0.5em;}#sk-container-id-11 div.sk-estimator:hover {background-color: #d4ebff;}#sk-container-id-11 div.sk-parallel-item::after {content: \"\";width: 100%;border-bottom: 1px solid gray;flex-grow: 1;}#sk-container-id-11 div.sk-label:hover label.sk-toggleable__label {background-color: #d4ebff;}#sk-container-id-11 div.sk-serial::before {content: \"\";position: absolute;border-left: 1px solid gray;box-sizing: border-box;top: 0;bottom: 0;left: 50%;z-index: 0;}#sk-container-id-11 div.sk-serial {display: flex;flex-direction: column;align-items: center;background-color: white;padding-right: 0.2em;padding-left: 0.2em;position: relative;}#sk-container-id-11 div.sk-item {position: relative;z-index: 1;}#sk-container-id-11 div.sk-parallel {display: flex;align-items: stretch;justify-content: center;background-color: white;position: relative;}#sk-container-id-11 div.sk-item::before, #sk-container-id-11 div.sk-parallel-item::before {content: \"\";position: absolute;border-left: 1px solid gray;box-sizing: border-box;top: 0;bottom: 0;left: 50%;z-index: -1;}#sk-container-id-11 div.sk-parallel-item {display: flex;flex-direction: column;z-index: 1;position: relative;background-color: white;}#sk-container-id-11 div.sk-parallel-item:first-child::after {align-self: flex-end;width: 50%;}#sk-container-id-11 div.sk-parallel-item:last-child::after {align-self: flex-start;width: 50%;}#sk-container-id-11 div.sk-parallel-item:only-child::after {width: 0;}#sk-container-id-11 div.sk-dashed-wrapped {border: 1px dashed gray;margin: 0 0.4em 0.5em 0.4em;box-sizing: border-box;padding-bottom: 0.4em;background-color: white;}#sk-container-id-11 div.sk-label label {font-family: monospace;font-weight: bold;display: inline-block;line-height: 1.2em;}#sk-container-id-11 div.sk-label-container {text-align: center;}#sk-container-id-11 div.sk-container {/* jupyter's `normalize.less` sets `[hidden] { display: none; }` but bootstrap.min.css set `[hidden] { display: none !important; }` so we also need the `!important` here to be able to override the default hidden behavior on the sphinx rendered scikit-learn.org. See: https://github.com/scikit-learn/scikit-learn/issues/21755 */display: inline-block !important;position: relative;}#sk-container-id-11 div.sk-text-repr-fallback {display: none;}</style><div id=\"sk-container-id-11\" class=\"sk-top-container\"><div class=\"sk-text-repr-fallback\"><pre>SVC(C=10, class_weight=&#x27;balanced&#x27;, gamma=0.01, kernel=&#x27;poly&#x27;,\n",
       "    max_iter=1000000.0)</pre><b>In a Jupyter environment, please rerun this cell to show the HTML representation or trust the notebook. <br />On GitHub, the HTML representation is unable to render, please try loading this page with nbviewer.org.</b></div><div class=\"sk-container\" hidden><div class=\"sk-item\"><div class=\"sk-estimator sk-toggleable\"><input class=\"sk-toggleable__control sk-hidden--visually\" id=\"sk-estimator-id-11\" type=\"checkbox\" checked><label for=\"sk-estimator-id-11\" class=\"sk-toggleable__label sk-toggleable__label-arrow\">SVC</label><div class=\"sk-toggleable__content\"><pre>SVC(C=10, class_weight=&#x27;balanced&#x27;, gamma=0.01, kernel=&#x27;poly&#x27;,\n",
       "    max_iter=1000000.0)</pre></div></div></div></div></div>"
      ],
      "text/plain": [
       "SVC(C=10, class_weight='balanced', gamma=0.01, kernel='poly',\n",
       "    max_iter=1000000.0)"
      ]
     },
     "execution_count": 166,
     "metadata": {},
     "output_type": "execute_result"
    }
   ],
   "source": [
    "# inizializzo e traino il best estimator\n",
    "\n",
    "clf = SVC(C=10, class_weight='balanced', kernel='poly', gamma=1e-2, max_iter=1e6)\n",
    "clf.fit(X_train, y_train)"
   ]
  },
  {
   "cell_type": "code",
   "execution_count": 167,
   "id": "b69afbdc",
   "metadata": {},
   "outputs": [
    {
     "data": {
      "text/plain": [
       "{'Avg Accuracy Baseline': (0.491323915173351, 0.018663369136801927),\n",
       " 'Avg F1-Macro baseline': (0.21956676218045118, 0.0055787042809031274),\n",
       " 'Avg Accuracy Model': (0.5247710249360007, 0.00804748728865843),\n",
       " 'Avg F1-Macro Model': (0.495840276203351, 0.008661382968036653)}"
      ]
     },
     "execution_count": 167,
     "metadata": {},
     "output_type": "execute_result"
    }
   ],
   "source": [
    "# valuto il best estimator su train con 5-Fold CV\n",
    "\n",
    "KFold_CV(5, clf, X_train, y_train)"
   ]
  },
  {
   "cell_type": "code",
   "execution_count": 168,
   "id": "844dd30b",
   "metadata": {},
   "outputs": [
    {
     "name": "stdout",
     "output_type": "stream",
     "text": [
      "              precision    recall  f1-score   support\n",
      "\n",
      "           0       0.67      0.73      0.70       437\n",
      "           1       0.40      0.31      0.35       219\n",
      "           2       0.43      0.46      0.44       216\n",
      "\n",
      "    accuracy                           0.56       872\n",
      "   macro avg       0.50      0.50      0.50       872\n",
      "weighted avg       0.54      0.56      0.55       872\n",
      "\n"
     ]
    }
   ],
   "source": [
    "# valuto il best estimator su hold-out test\n",
    "\n",
    "y_pred = clf.predict(X_test)\n",
    "print(classification_report(y_test, y_pred))"
   ]
  },
  {
   "cell_type": "code",
   "execution_count": 169,
   "id": "eab1caa5",
   "metadata": {},
   "outputs": [
    {
     "data": {
      "image/png": "[encoded data removed]",
      "text/plain": [
       "<Figure size 432x288 with 2 Axes>"
      ]
     },
     "metadata": {},
     "output_type": "display_data"
    }
   ],
   "source": [
    "# visualizzo la matrice di confusione\n",
    "\n",
    "cm = confusion_matrix(y_test, y_pred)\n",
    "sns.heatmap(cm, annot=True, fmt=\"d\", cmap=\"Blues\")\n",
    "plt.show()"
   ]
  }
 ],
 "metadata": {
  "kernelspec": {
   "display_name": "Python 3",
   "language": "python",
   "name": "python3"
  }
 },
 "nbformat": 4,
 "nbformat_minor": 5
}
